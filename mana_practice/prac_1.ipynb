{
 "cells": [
  {
   "cell_type": "code",
   "execution_count": 31,
   "metadata": {},
   "outputs": [
    {
     "name": "stdout",
     "output_type": "stream",
     "text": [
      "y is greater than x\n"
     ]
    }
   ],
   "source": [
    "x=1\n",
    "y=2\n",
    "if y > x:\n",
    "    print(\"y is greater than x\")"
   ]
  },
  {
   "cell_type": "code",
   "execution_count": 32,
   "metadata": {},
   "outputs": [
    {
     "name": "stdout",
     "output_type": "stream",
     "text": [
      "Alice\n",
      "Bob\n",
      "Charlie\n",
      "David\n"
     ]
    }
   ],
   "source": [
    "class_list = [\"Alice\", \"Bob\", \"Charlie\", \"David\"]\n",
    "for name in class_list:\n",
    "    print(name)"
   ]
  },
  {
   "cell_type": "code",
   "execution_count": 33,
   "metadata": {},
   "outputs": [
    {
     "name": "stdout",
     "output_type": "stream",
     "text": [
      "kitty\n",
      "kitty\n",
      "KITTY\n",
      "WALKS LIKE A DUCK, QUACKS LIKE A DUCK, IT'S A DUCK\n",
      "100\n",
      "kitty\n"
     ]
    }
   ],
   "source": [
    "cat1= \"kitty\"\n",
    "cat2= cat1\n",
    "print(cat1)\n",
    "print(cat2)\n",
    "\n",
    "\n",
    "cat3=cat1.upper()\n",
    "print(cat3)\n",
    "str=\"Walks like a duck, quacks like a duck, it's a duck\"\n",
    "print(str.upper())\n",
    "\n",
    "cat1= 100\n",
    "print(cat1)\n",
    "print(cat2)"
   ]
  },
  {
   "cell_type": "code",
   "execution_count": 34,
   "metadata": {},
   "outputs": [
    {
     "name": "stdout",
     "output_type": "stream",
     "text": [
      "5\n",
      "10\n"
     ]
    }
   ],
   "source": [
    "# write a function to sum two numbers\n",
    "def add(a,b):\n",
    "    return a+b\n",
    "\n",
    "a=add(2,3)\n",
    "print(a)\n",
    "\n",
    "def my_sum(a,b,c,d):\n",
    "    return a+b+c+d\n",
    "\n",
    "b=my_sum(1,2,3,4)\n",
    "print(b)"
   ]
  },
  {
   "cell_type": "markdown",
   "metadata": {},
   "source": [
    "## Built-in and Custom Modules:\n",
    "- Built-in Modules: Pre-installed with Python (e.g., math, os, random).\n",
    "- Custom Modules: Python files created by users (e.g., my_module.py)."
   ]
  },
  {
   "cell_type": "code",
   "execution_count": 35,
   "metadata": {},
   "outputs": [
    {
     "name": "stdout",
     "output_type": "stream",
     "text": [
      "4.0\n",
      "3.141592653589793\n"
     ]
    }
   ],
   "source": [
    "# Built in modules\n",
    "import math\n",
    "\n",
    "# Use math module functions\n",
    "print(math.sqrt(16))  # Outputs: 4.0\n",
    "print(math.pi)        # Outputs: 3.141592653589793\n"
   ]
  },
  {
   "cell_type": "code",
   "execution_count": 36,
   "metadata": {},
   "outputs": [
    {
     "name": "stdout",
     "output_type": "stream",
     "text": [
      "5.0\n",
      "3.141592653589793\n"
     ]
    }
   ],
   "source": [
    "# Instead of importing the entire module, you can import specific functions or variables:\n",
    "\n",
    "from math import sqrt, pi\n",
    "\n",
    "print(sqrt(25))  # Outputs: 5.0\n",
    "print(pi)        # Outputs: 3.141592653589793"
   ]
  },
  {
   "cell_type": "code",
   "execution_count": 37,
   "metadata": {},
   "outputs": [
    {
     "name": "stdout",
     "output_type": "stream",
     "text": [
      "[1 2 3]\n"
     ]
    }
   ],
   "source": [
    "# Use an alias to shorten the module name:\n",
    "\n",
    "import numpy as np\n",
    "\n",
    "array = np.array([1, 2, 3])\n",
    "print(array)  # Outputs: [1 2 3]"
   ]
  },
  {
   "cell_type": "code",
   "execution_count": 6,
   "metadata": {},
   "outputs": [
    {
     "name": "stdout",
     "output_type": "stream",
     "text": [
      "the happy\n",
      "dog ate\n",
      "all his food\n",
      "c\n",
      "30\n",
      "30\n",
      "scout\n",
      "SCOUT\n",
      "Scoot\n",
      "My dog's name is Scout\n"
     ]
    }
   ],
   "source": [
    "dog = 'Scout'\n",
    "dog = \"Scout\"\n",
    "\n",
    "poem = '''the happy\n",
    "dog ate\n",
    "all his food'''\n",
    "\n",
    "print(poem)\n",
    "\n",
    "dog[1]\n",
    "print(dog[1])\n",
    "\n",
    "number = len(poem)\n",
    "print(number)\n",
    "print(str(number))\n",
    "\n",
    "lower_dog = dog.lower()\n",
    "print(lower_dog)\n",
    "upper_dog = dog.upper()\n",
    "print(upper_dog)\n",
    "new_name = dog.replace(\"u\",\"o\")\n",
    "print(new_name)\n",
    "poem.split(\" \")[0]\n",
    "\n",
    "\n",
    "print (r\"My dog's name is\", dog)\n"
   ]
  },
  {
   "cell_type": "markdown",
   "metadata": {},
   "source": [
    "## 1. List: A collection of items that is ordered, mutable (can be changed), and allows duplicates."
   ]
  },
  {
   "cell_type": "code",
   "execution_count": 9,
   "metadata": {},
   "outputs": [
    {
     "name": "stdout",
     "output_type": "stream",
     "text": [
      "['apple', 'banana', 'cherry']\n",
      "['apple', 'banana', 'cherry', 'orange']\n",
      "banana\n",
      "['kiwi', 'banana', 'cherry', 'orange']\n"
     ]
    }
   ],
   "source": [
    "# Example of a List\n",
    "fruits = [\"apple\", \"banana\", \"cherry\"]\n",
    "print(fruits)  # Output: ['apple', 'banana', 'cherry']\n",
    "\n",
    "# Adding an item\n",
    "fruits.append(\"orange\")\n",
    "print(fruits)  # Output: ['apple', 'banana', 'cherry', 'orange']\n",
    "\n",
    "# Accessing items\n",
    "print(fruits[1])  # Output: banana\n",
    "\n",
    "# Changing an item\n",
    "fruits[0] = \"kiwi\"\n",
    "print(fruits)  # Output: ['kiwi', 'banana', 'cherry', 'orange']\n"
   ]
  },
  {
   "cell_type": "markdown",
   "metadata": {},
   "source": [
    "## 2. Tuple: A collection of items that is ordered, immutable (cannot be changed), and allows duplicates."
   ]
  },
  {
   "cell_type": "code",
   "execution_count": 8,
   "metadata": {},
   "outputs": [
    {
     "name": "stdout",
     "output_type": "stream",
     "text": [
      "('red', 'green', 'blue')\n",
      "red\n"
     ]
    }
   ],
   "source": [
    "# Example of a Tuple\n",
    "colors = (\"red\", \"green\", \"blue\")\n",
    "print(colors)  # Output: ('red', 'green', 'blue')\n",
    "\n",
    "# Accessing items\n",
    "print(colors[0])  # Output: red\n",
    "\n",
    "# You cannot modify the tuple\n",
    "# colors[0] = \"yellow\"  # This will raise a TypeError\n"
   ]
  },
  {
   "cell_type": "markdown",
   "metadata": {},
   "source": [
    "## 3. Dictionary: A collection of key-value pairs that is unordered (in versions < 3.7), mutable, and does not allow duplicate keys."
   ]
  },
  {
   "cell_type": "code",
   "execution_count": 10,
   "metadata": {},
   "outputs": [
    {
     "name": "stdout",
     "output_type": "stream",
     "text": [
      "{'name': 'Alice', 'age': 22, 'grade': 'A'}\n",
      "Alice\n",
      "{'name': 'Alice', 'age': 22, 'grade': 'A', 'major': 'Computer Science'}\n"
     ]
    }
   ],
   "source": [
    "# Example of a Dictionary\n",
    "student = {\"name\": \"Alice\", \"age\": 22, \"grade\": \"A\"}\n",
    "print(student)  # Output: {'name': 'Alice', 'age': 22, 'grade': 'A'}\n",
    "\n",
    "# Accessing values\n",
    "print(student[\"name\"])  # Output: Alice\n",
    "\n",
    "# Adding a new key-value pair\n",
    "student[\"major\"] = \"Computer Science\"\n",
    "print(student)  # Output: {'name': 'Alice', 'age': 22, 'grade': 'A', 'major': 'Computer Science'}\n"
   ]
  }
 ],
 "metadata": {
  "kernelspec": {
   "display_name": "DL-env",
   "language": "python",
   "name": "python3"
  },
  "language_info": {
   "codemirror_mode": {
    "name": "ipython",
    "version": 3
   },
   "file_extension": ".py",
   "mimetype": "text/x-python",
   "name": "python",
   "nbconvert_exporter": "python",
   "pygments_lexer": "ipython3",
   "version": "3.10.9"
  }
 },
 "nbformat": 4,
 "nbformat_minor": 2
}

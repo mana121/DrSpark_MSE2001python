{
 "cells": [
  {
   "cell_type": "code",
   "execution_count": 150,
   "metadata": {},
   "outputs": [
    {
     "name": "stdout",
     "output_type": "stream",
     "text": [
      "y is greater than x\n"
     ]
    }
   ],
   "source": [
    "x=1\n",
    "y=2\n",
    "if y > x:\n",
    "    print(\"y is greater than x\")"
   ]
  },
  {
   "cell_type": "code",
   "execution_count": 151,
   "metadata": {},
   "outputs": [
    {
     "name": "stdout",
     "output_type": "stream",
     "text": [
      "Alice\n",
      "Bob\n",
      "Charlie\n",
      "David\n"
     ]
    }
   ],
   "source": [
    "class_list = [\"Alice\", \"Bob\", \"Charlie\", \"David\"]\n",
    "for name in class_list:\n",
    "    print(name)"
   ]
  },
  {
   "cell_type": "code",
   "execution_count": 152,
   "metadata": {},
   "outputs": [
    {
     "name": "stdout",
     "output_type": "stream",
     "text": [
      "kitty\n",
      "kitty\n",
      "KITTY\n",
      "WALKS LIKE A DUCK, QUACKS LIKE A DUCK, IT'S A DUCK\n",
      "100\n",
      "kitty\n"
     ]
    }
   ],
   "source": [
    "cat1= \"kitty\"\n",
    "cat2= cat1\n",
    "print(cat1)\n",
    "print(cat2)\n",
    "\n",
    "\n",
    "cat3=cat1.upper()\n",
    "print(cat3)\n",
    "str=\"Walks like a duck, quacks like a duck, it's a duck\"\n",
    "print(str.upper())\n",
    "\n",
    "cat1= 100\n",
    "print(cat1)\n",
    "print(cat2)"
   ]
  },
  {
   "cell_type": "code",
   "execution_count": 153,
   "metadata": {},
   "outputs": [
    {
     "name": "stdout",
     "output_type": "stream",
     "text": [
      "5\n",
      "10\n"
     ]
    }
   ],
   "source": [
    "# write a function to sum two numbers\n",
    "def add(a,b):\n",
    "    return a+b\n",
    "\n",
    "a=add(2,3)\n",
    "print(a)\n",
    "\n",
    "def my_sum(a,b,c,d):\n",
    "    return a+b+c+d\n",
    "\n",
    "b=my_sum(1,2,3,4)\n",
    "print(b)"
   ]
  },
  {
   "cell_type": "markdown",
   "metadata": {},
   "source": [
    "## Built-in and Custom Modules:\n",
    "- Built-in Modules: Pre-installed with Python (e.g., math, os, random).\n",
    "- Custom Modules: Python files created by users (e.g., my_module.py)."
   ]
  },
  {
   "cell_type": "code",
   "execution_count": 154,
   "metadata": {},
   "outputs": [
    {
     "name": "stdout",
     "output_type": "stream",
     "text": [
      "4.0\n",
      "3.141592653589793\n"
     ]
    }
   ],
   "source": [
    "# Built in modules\n",
    "import math\n",
    "\n",
    "# Use math module functions\n",
    "print(math.sqrt(16))  # Outputs: 4.0\n",
    "print(math.pi)        # Outputs: 3.141592653589793\n"
   ]
  },
  {
   "cell_type": "code",
   "execution_count": 155,
   "metadata": {},
   "outputs": [
    {
     "name": "stdout",
     "output_type": "stream",
     "text": [
      "5.0\n",
      "3.141592653589793\n"
     ]
    }
   ],
   "source": [
    "# Instead of importing the entire module, you can import specific functions or variables:\n",
    "\n",
    "from math import sqrt, pi\n",
    "\n",
    "print(sqrt(25))  # Outputs: 5.0\n",
    "print(pi)        # Outputs: 3.141592653589793"
   ]
  },
  {
   "cell_type": "code",
   "execution_count": 156,
   "metadata": {},
   "outputs": [
    {
     "name": "stdout",
     "output_type": "stream",
     "text": [
      "[1 2 3]\n"
     ]
    }
   ],
   "source": [
    "# Use an alias to shorten the module name:\n",
    "\n",
    "import numpy as np\n",
    "\n",
    "array = np.array([1, 2, 3])\n",
    "print(array)  # Outputs: [1 2 3]"
   ]
  },
  {
   "cell_type": "code",
   "execution_count": 157,
   "metadata": {},
   "outputs": [
    {
     "name": "stdout",
     "output_type": "stream",
     "text": [
      "the happy\n",
      "dog ate\n",
      "all his food\n",
      "c\n",
      "30\n",
      "scout\n",
      "SCOUT\n",
      "Scoot\n",
      "My dog's name is Scout\n"
     ]
    }
   ],
   "source": [
    "dog = 'Scout'\n",
    "dog = \"Scout\"\n",
    "\n",
    "poem = '''the happy\n",
    "dog ate\n",
    "all his food'''\n",
    "\n",
    "print(poem)\n",
    "\n",
    "dog[1]\n",
    "print(dog[1])\n",
    "\n",
    "number = len(poem)\n",
    "print(number)\n",
    "# print(str(number))\n",
    "\n",
    "lower_dog = dog.lower()\n",
    "print(lower_dog)\n",
    "upper_dog = dog.upper()\n",
    "print(upper_dog)\n",
    "new_name = dog.replace(\"u\",\"o\")\n",
    "print(new_name)\n",
    "poem.split(\" \")[0]\n",
    "\n",
    "\n",
    "print (r\"My dog's name is\", dog)\n"
   ]
  },
  {
   "cell_type": "markdown",
   "metadata": {},
   "source": [
    "## 1. List: A collection of items that is ordered, mutable (can be changed), and allows duplicates."
   ]
  },
  {
   "cell_type": "code",
   "execution_count": 4,
   "metadata": {},
   "outputs": [
    {
     "name": "stdout",
     "output_type": "stream",
     "text": [
      "['apple', 'banana', 'cherry']\n",
      "['apple', 'banana', 'cherry', 'orange']\n",
      "banana\n",
      "['kiwi', 'banana', 'cherry', 'orange']\n",
      "['kiwi', 'banana', 'cherry', 'orange', 'orange']\n"
     ]
    }
   ],
   "source": [
    "# Example of a List\n",
    "fruits = [\"apple\", \"banana\", \"cherry\"]\n",
    "print(fruits)  # Output: ['apple', 'banana', 'cherry']\n",
    "\n",
    "# Adding an item\n",
    "fruits.append(\"orange\")\n",
    "print(fruits)  # Output: ['apple', 'banana', 'cherry', 'orange']\n",
    "\n",
    "# Accessing items\n",
    "print(fruits[1])  # Output: banana\n",
    "\n",
    "# Changing an item\n",
    "fruits[0] = \"kiwi\"\n",
    "print(fruits)  # Output: ['kiwi', 'banana', 'cherry', 'orange']\n",
    "\n",
    "fruits.append(\"orange\")\n",
    "print(fruits)  # Output: ['kiwi', 'banana', 'cherry', 'orange', 'apple']\n"
   ]
  },
  {
   "cell_type": "markdown",
   "metadata": {},
   "source": [
    "## 2. Tuple: A collection of items that is ordered, immutable (cannot be changed), and allows duplicates."
   ]
  },
  {
   "cell_type": "code",
   "execution_count": 10,
   "metadata": {},
   "outputs": [
    {
     "name": "stdout",
     "output_type": "stream",
     "text": [
      "('red', 'green', 'blue')\n",
      "red\n",
      "('red', 'green', 'blue', 'blue')\n"
     ]
    }
   ],
   "source": [
    "# Example of a Tuple\n",
    "colors = (\"red\", \"green\", \"blue\")\n",
    "print(colors)  # Output: ('red', 'green', 'blue')\n",
    "\n",
    "# Accessing items\n",
    "print(colors[0])  # Output: red\n",
    "\n",
    "# You cannot modify the tuple\n",
    "# colors[0] = \"yellow\"  # This will raise a TypeError\n",
    "\n",
    "# add a new item to the tuple\n",
    "colors = colors + (\"blue\",)\n",
    "print(colors)  # Output: ('red', 'green', 'blue', 'yellow')"
   ]
  },
  {
   "cell_type": "markdown",
   "metadata": {},
   "source": [
    "## 3. Dictionary: A collection of key-value pairs that is unordered (in versions < 3.7), mutable, and does not allow duplicate keys."
   ]
  },
  {
   "cell_type": "code",
   "execution_count": 38,
   "metadata": {},
   "outputs": [
    {
     "name": "stdout",
     "output_type": "stream",
     "text": [
      "{'name': 'Alice', 'age': 22, 'grade': 'A'}\n",
      "Alice\n",
      "{'name': 'Alice', 'age': 22, 'grade': 'A', 'major': 'Computer Science'}\n"
     ]
    }
   ],
   "source": [
    "# Example of a Dictionary\n",
    "student = {\"name\": \"Alice\", \"age\": 22, \"grade\": \"A\"}\n",
    "print(student)  # Output: {'name': 'Alice', 'age': 22, 'grade': 'A'}\n",
    "\n",
    "# Accessing values\n",
    "print(student[\"name\"])  # Output: Alice\n",
    "\n",
    "# Adding a new key-value pair\n",
    "student[\"major\"] = \"Computer Science\"\n",
    "print(student)  # Output: {'name': 'Alice', 'age': 22, 'grade': 'A', 'major': 'Computer Science'}\n"
   ]
  },
  {
   "cell_type": "code",
   "execution_count": 39,
   "metadata": {},
   "outputs": [
    {
     "name": "stdout",
     "output_type": "stream",
     "text": [
      "['Frodo', 'Gandalf', 'Samwise', 'Merry', 'Pippin', 'Legolas', 'Aragorn', 'Gimli', 'Boromir']\n",
      "['Frodo', 'Gandalf', 'Golem', 'Samwise', 'Merry', 'Pippin', 'Legolas', 'Aragorn', 'Gimli', 'Boromir']\n",
      "['Frodo', 'Gandalf', 'Golem', 'Samwise', 'Merry', 'Pippin', 'Legolas', 'Aragorn', 'Gimli']\n",
      "['Frodo', 'Gandalf', 'Golem', 'Samwise', 'Merry', 'Pippin', 'Legolas', 'Aragorn']\n",
      "['Frodo', 'Gandalf', 'Golem', 'Samwise', 'Merry', 'Pippin', 'Legolas', 'Aragorn', 100]\n",
      "9\n",
      "['donuts', 'hot chocolate', 'apples', 'bananas']\n",
      "[]\n",
      "[100, 'Aragorn', 'Legolas', 'Pippin', 'Merry', 'Samwise', 'Golem', 'Gandalf', 'Frodo']\n",
      "['apples', 'bananas']\n",
      "['apples']\n"
     ]
    }
   ],
   "source": [
    "fellowship = [\"Frodo\", \"Gandalf\", \"Samwise\", \"Merry\", \"Pippin\"\n",
    "              , \"Legolas\", \"Aragorn\", \"Gimli\", \"Boromir\"]\n",
    "\n",
    "print(fellowship)\n",
    "\n",
    "fellowship.insert(2,\"Golem\")\n",
    "print(fellowship)\n",
    "fellowship.remove(\"Boromir\")\n",
    "print(fellowship)\n",
    "fellowship.pop(8)\n",
    "print(fellowship)\n",
    "fellowship.append(100)\n",
    "print(fellowship)\n",
    "\n",
    "len(fellowship)\n",
    "print(len(fellowship))\n",
    "\n",
    "grocery_list1 = [\"apples\", \"bananas\"]\n",
    "grocery_list2 = [\"donuts\", \"hot chocolate\"]\n",
    "new_list = grocery_list2+grocery_list1\n",
    "print(new_list)\n",
    "new_list.clear()\n",
    "print(new_list)\n",
    "\n",
    "fellowship.reverse()\n",
    "print(fellowship)\n",
    "copy_of_list1 = grocery_list1.copy()\n",
    "print(copy_of_list1)\n",
    "grocery_list1.pop(1)\n",
    "print(grocery_list1)"
   ]
  },
  {
   "cell_type": "code",
   "execution_count": 40,
   "metadata": {},
   "outputs": [
    {
     "name": "stdout",
     "output_type": "stream",
     "text": [
      "Scout\n"
     ]
    }
   ],
   "source": [
    "dog = 'Scout'\n",
    "dog = \"Scout\"\n",
    "print(dog)"
   ]
  },
  {
   "cell_type": "code",
   "execution_count": 41,
   "metadata": {},
   "outputs": [
    {
     "ename": "NameError",
     "evalue": "name 'poem' is not defined",
     "output_type": "error",
     "traceback": [
      "\u001b[0;31m---------------------------------------------------------------------------\u001b[0m",
      "\u001b[0;31mNameError\u001b[0m                                 Traceback (most recent call last)",
      "Cell \u001b[0;32mIn[41], line 5\u001b[0m\n\u001b[1;32m      1\u001b[0m peom\u001b[38;5;241m=\u001b[39m \u001b[38;5;124m'''\u001b[39m\u001b[38;5;124mthe happy  \u001b[39m\n\u001b[1;32m      2\u001b[0m \u001b[38;5;124mdog ate\u001b[39m\n\u001b[1;32m      3\u001b[0m \u001b[38;5;124mall his food\u001b[39m\u001b[38;5;124m'''\u001b[39m\n\u001b[0;32m----> 5\u001b[0m \u001b[38;5;28mprint\u001b[39m(\u001b[43mpoem\u001b[49m)\n\u001b[1;32m      7\u001b[0m peom\u001b[38;5;241m=\u001b[39m \u001b[38;5;124m\"\"\"\u001b[39m\u001b[38;5;124mthe happy  \u001b[39m\n\u001b[1;32m      8\u001b[0m \u001b[38;5;124mdog ate\u001b[39m\n\u001b[1;32m      9\u001b[0m \u001b[38;5;124mall his food\u001b[39m\u001b[38;5;124m\"\"\"\u001b[39m\n\u001b[1;32m     11\u001b[0m \u001b[38;5;28mprint\u001b[39m(poem)\n",
      "\u001b[0;31mNameError\u001b[0m: name 'poem' is not defined"
     ]
    }
   ],
   "source": [
    "peom= '''the happy  \n",
    "dog ate\n",
    "all his food'''\n",
    "\n",
    "print(poem)\n",
    "\n",
    "peom= \"\"\"the happy  \n",
    "dog ate\n",
    "all his food\"\"\"\n",
    "\n",
    "print(poem)"
   ]
  },
  {
   "cell_type": "code",
   "execution_count": 164,
   "metadata": {},
   "outputs": [
    {
     "name": "stdout",
     "output_type": "stream",
     "text": [
      "h\n"
     ]
    }
   ],
   "source": [
    "print(poem[1])"
   ]
  },
  {
   "cell_type": "code",
   "execution_count": 165,
   "metadata": {},
   "outputs": [
    {
     "name": "stdout",
     "output_type": "stream",
     "text": [
      "S\n",
      "t\n"
     ]
    }
   ],
   "source": [
    "dog[0]\n",
    "print(dog[0])\n",
    "print(dog[-1])"
   ]
  },
  {
   "cell_type": "code",
   "execution_count": 3,
   "metadata": {},
   "outputs": [
    {
     "ename": "TypeError",
     "evalue": "'str' object does not support item assignment",
     "output_type": "error",
     "traceback": [
      "\u001b[0;31m---------------------------------------------------------------------------\u001b[0m",
      "\u001b[0;31mTypeError\u001b[0m                                 Traceback (most recent call last)",
      "Cell \u001b[0;32mIn[3], line 2\u001b[0m\n\u001b[1;32m      1\u001b[0m dog\u001b[38;5;241m=\u001b[39m\u001b[38;5;124m'\u001b[39m\u001b[38;5;124mScout\u001b[39m\u001b[38;5;124m'\u001b[39m\n\u001b[0;32m----> 2\u001b[0m dog[\u001b[38;5;241m0\u001b[39m]\u001b[38;5;241m=\u001b[39m\u001b[38;5;124m\"\u001b[39m\u001b[38;5;124mT\u001b[39m\u001b[38;5;124m\"\u001b[39m\n",
      "\u001b[0;31mTypeError\u001b[0m: 'str' object does not support item assignment"
     ]
    }
   ],
   "source": [
    "dog='Scout'\n",
    "dog[0]=\"T\""
   ]
  },
  {
   "cell_type": "code",
   "execution_count": 167,
   "metadata": {},
   "outputs": [
    {
     "name": "stdout",
     "output_type": "stream",
     "text": [
      "Sco\n",
      "ut\n",
      "co\n",
      "Scout\n"
     ]
    }
   ],
   "source": [
    "# Slicing\n",
    "print(dog[:3])\n",
    "print(dog[3:])\n",
    "print(dog[1:3])\n",
    "print(dog[:])"
   ]
  },
  {
   "cell_type": "code",
   "execution_count": 168,
   "metadata": {},
   "outputs": [
    {
     "name": "stdout",
     "output_type": "stream",
     "text": [
      "5\n"
     ]
    }
   ],
   "source": [
    "number= len(dog)\n",
    "print(number)"
   ]
  },
  {
   "cell_type": "code",
   "execution_count": 170,
   "metadata": {},
   "outputs": [
    {
     "data": {
      "text/plain": [
       "True"
      ]
     },
     "execution_count": 170,
     "metadata": {},
     "output_type": "execute_result"
    }
   ],
   "source": [
    "\"S\" in dog"
   ]
  },
  {
   "cell_type": "code",
   "execution_count": 171,
   "metadata": {},
   "outputs": [
    {
     "data": {
      "text/plain": [
       "False"
      ]
     },
     "execution_count": 171,
     "metadata": {},
     "output_type": "execute_result"
    }
   ],
   "source": [
    "\"T\" in dog"
   ]
  },
  {
   "cell_type": "code",
   "execution_count": 172,
   "metadata": {},
   "outputs": [
    {
     "data": {
      "text/plain": [
       "True"
      ]
     },
     "execution_count": 172,
     "metadata": {},
     "output_type": "execute_result"
    }
   ],
   "source": [
    "\"t\" in dog"
   ]
  },
  {
   "cell_type": "code",
   "execution_count": 173,
   "metadata": {},
   "outputs": [
    {
     "name": "stdout",
     "output_type": "stream",
     "text": [
      "30\n"
     ]
    },
    {
     "ename": "TypeError",
     "evalue": "'str' object is not callable",
     "output_type": "error",
     "traceback": [
      "\u001b[0;31m---------------------------------------------------------------------------\u001b[0m",
      "\u001b[0;31mTypeError\u001b[0m                                 Traceback (most recent call last)",
      "Cell \u001b[0;32mIn[173], line 4\u001b[0m\n\u001b[1;32m      1\u001b[0m number \u001b[38;5;241m=\u001b[39m \u001b[38;5;28mlen\u001b[39m(poem)\n\u001b[1;32m      2\u001b[0m \u001b[38;5;28mprint\u001b[39m(number)\n\u001b[0;32m----> 4\u001b[0m \u001b[38;5;28mprint\u001b[39m(\u001b[38;5;28;43mstr\u001b[39;49m\u001b[43m(\u001b[49m\u001b[43mnumber\u001b[49m\u001b[43m)\u001b[49m)\n",
      "\u001b[0;31mTypeError\u001b[0m: 'str' object is not callable"
     ]
    }
   ],
   "source": [
    "number = len(poem)\n",
    "print(number)\n",
    "\n",
    "print(str(number))\n"
   ]
  },
  {
   "cell_type": "code",
   "execution_count": 174,
   "metadata": {},
   "outputs": [],
   "source": [
    "# # Example\n",
    "# poem = \"Roses are red, violets are blue.\"\n",
    "# number = len(poem)\n",
    "\n",
    "# # Convert number to string and print\n",
    "# print(str(number))\n"
   ]
  },
  {
   "cell_type": "code",
   "execution_count": 175,
   "metadata": {},
   "outputs": [
    {
     "data": {
      "text/plain": [
       "['t',\n",
       " 'h',\n",
       " 'e',\n",
       " ' ',\n",
       " 'h',\n",
       " 'a',\n",
       " 'p',\n",
       " 'p',\n",
       " 'y',\n",
       " '\\n',\n",
       " 'd',\n",
       " 'o',\n",
       " 'g',\n",
       " ' ',\n",
       " 'a',\n",
       " 't',\n",
       " 'e',\n",
       " '\\n',\n",
       " 'a',\n",
       " 'l',\n",
       " 'l',\n",
       " ' ',\n",
       " 'h',\n",
       " 'i',\n",
       " 's',\n",
       " ' ',\n",
       " 'f',\n",
       " 'o',\n",
       " 'o',\n",
       " 'd']"
      ]
     },
     "execution_count": 175,
     "metadata": {},
     "output_type": "execute_result"
    }
   ],
   "source": [
    "list(poem)"
   ]
  },
  {
   "cell_type": "code",
   "execution_count": 176,
   "metadata": {},
   "outputs": [
    {
     "name": "stdout",
     "output_type": "stream",
     "text": [
      "scout\n",
      "SCOUT\n",
      "Rcout\n",
      "[' ', 'h', 'i', ' ', 'h', 'o', 'w', ' ', 'a', 'r', 'e', ' ', 'y', 'o', 'u', ' ']\n",
      "['h', 'i', ' ', 'h', 'o', 'w', ' ', 'a', 'r', 'e', ' ', 'y', 'o', 'u']\n"
     ]
    }
   ],
   "source": [
    "lower_dog = dog.lower()\n",
    "print(lower_dog)\n",
    "upper_dog = dog.upper()\n",
    "print(upper_dog)\n",
    "new_name = dog.replace(\"S\",\"R\")\n",
    "print(new_name)\n",
    "\n",
    "name=\" hi how are you \"\n",
    "print(list(name))\n",
    "name1=name.strip()\n",
    "print(list(name1))"
   ]
  },
  {
   "cell_type": "code",
   "execution_count": 177,
   "metadata": {},
   "outputs": [
    {
     "name": "stdout",
     "output_type": "stream",
     "text": [
      "['the happy', 'dog ate', 'all his food']\n",
      "the happy\n"
     ]
    }
   ],
   "source": [
    "print(poem.split(\"\\n\"))\n",
    "print(poem.split(\"\\n\")[0])"
   ]
  },
  {
   "cell_type": "code",
   "execution_count": 178,
   "metadata": {},
   "outputs": [
    {
     "name": "stdout",
     "output_type": "stream",
     "text": [
      "3\n"
     ]
    }
   ],
   "source": [
    "print(poem.count(\"a\"))"
   ]
  },
  {
   "cell_type": "code",
   "execution_count": 179,
   "metadata": {},
   "outputs": [
    {
     "name": "stdout",
     "output_type": "stream",
     "text": [
      "my dog's name is:  Scout\n",
      "my \t dog's \"name\" is:  Scout\n"
     ]
    }
   ],
   "source": [
    "print(r\"my dog's name is: \", dog)\n",
    "print(\"my \\t dog's \\\"name\\\" is: \", dog)"
   ]
  },
  {
   "cell_type": "code",
   "execution_count": 180,
   "metadata": {},
   "outputs": [
    {
     "data": {
      "text/plain": [
       "True"
      ]
     },
     "execution_count": 180,
     "metadata": {},
     "output_type": "execute_result"
    }
   ],
   "source": [
    "x=5\n",
    "bool(x)"
   ]
  },
  {
   "cell_type": "code",
   "execution_count": 181,
   "metadata": {},
   "outputs": [
    {
     "data": {
      "text/plain": [
       "False"
      ]
     },
     "execution_count": 181,
     "metadata": {},
     "output_type": "execute_result"
    }
   ],
   "source": [
    "y=0\n",
    "bool(y)"
   ]
  },
  {
   "cell_type": "code",
   "execution_count": 196,
   "metadata": {},
   "outputs": [
    {
     "data": {
      "text/plain": [
       "True"
      ]
     },
     "execution_count": 196,
     "metadata": {},
     "output_type": "execute_result"
    }
   ],
   "source": [
    "xx=-9.8\n",
    "bool(xx)"
   ]
  },
  {
   "cell_type": "code",
   "execution_count": 186,
   "metadata": {},
   "outputs": [
    {
     "data": {
      "text/plain": [
       "True"
      ]
     },
     "execution_count": 186,
     "metadata": {},
     "output_type": "execute_result"
    }
   ],
   "source": [
    "v=1\n",
    "bool(v)"
   ]
  },
  {
   "cell_type": "code",
   "execution_count": 209,
   "metadata": {},
   "outputs": [],
   "source": [
    "A=True\n",
    "B=False\n"
   ]
  },
  {
   "cell_type": "code",
   "execution_count": 187,
   "metadata": {},
   "outputs": [
    {
     "data": {
      "text/plain": [
       "bool"
      ]
     },
     "execution_count": 187,
     "metadata": {},
     "output_type": "execute_result"
    }
   ],
   "source": [
    "type(A)"
   ]
  },
  {
   "cell_type": "code",
   "execution_count": 184,
   "metadata": {},
   "outputs": [
    {
     "data": {
      "text/plain": [
       "int"
      ]
     },
     "execution_count": 184,
     "metadata": {},
     "output_type": "execute_result"
    }
   ],
   "source": [
    "type(x)"
   ]
  },
  {
   "cell_type": "code",
   "execution_count": 185,
   "metadata": {},
   "outputs": [
    {
     "data": {
      "text/plain": [
       "int"
      ]
     },
     "execution_count": 185,
     "metadata": {},
     "output_type": "execute_result"
    }
   ],
   "source": [
    "type(y)"
   ]
  },
  {
   "cell_type": "code",
   "execution_count": 192,
   "metadata": {},
   "outputs": [
    {
     "data": {
      "text/plain": [
       "True"
      ]
     },
     "execution_count": 192,
     "metadata": {},
     "output_type": "execute_result"
    }
   ],
   "source": [
    "dog = \"Scout\"\n",
    "bool(dog)\n"
   ]
  },
  {
   "cell_type": "code",
   "execution_count": 193,
   "metadata": {},
   "outputs": [
    {
     "data": {
      "text/plain": [
       "False"
      ]
     },
     "execution_count": 193,
     "metadata": {},
     "output_type": "execute_result"
    }
   ],
   "source": [
    "dog=\"\"\n",
    "bool(dog)"
   ]
  },
  {
   "cell_type": "code",
   "execution_count": 194,
   "metadata": {},
   "outputs": [
    {
     "data": {
      "text/plain": [
       "False"
      ]
     },
     "execution_count": 194,
     "metadata": {},
     "output_type": "execute_result"
    }
   ],
   "source": [
    "birds=None\n",
    "bool(birds)"
   ]
  },
  {
   "cell_type": "code",
   "execution_count": 195,
   "metadata": {},
   "outputs": [
    {
     "data": {
      "text/plain": [
       "False"
      ]
     },
     "execution_count": 195,
     "metadata": {},
     "output_type": "execute_result"
    }
   ],
   "source": [
    "L=[]\n",
    "bool(L)"
   ]
  },
  {
   "cell_type": "code",
   "execution_count": 197,
   "metadata": {},
   "outputs": [
    {
     "data": {
      "text/plain": [
       "False"
      ]
     },
     "execution_count": 197,
     "metadata": {},
     "output_type": "execute_result"
    }
   ],
   "source": [
    "A and B"
   ]
  },
  {
   "cell_type": "code",
   "execution_count": 198,
   "metadata": {},
   "outputs": [
    {
     "data": {
      "text/plain": [
       "True"
      ]
     },
     "execution_count": 198,
     "metadata": {},
     "output_type": "execute_result"
    }
   ],
   "source": [
    "A or B"
   ]
  },
  {
   "cell_type": "code",
   "execution_count": 199,
   "metadata": {},
   "outputs": [
    {
     "data": {
      "text/plain": [
       "True"
      ]
     },
     "execution_count": 199,
     "metadata": {},
     "output_type": "execute_result"
    }
   ],
   "source": [
    "not B"
   ]
  },
  {
   "cell_type": "code",
   "execution_count": 200,
   "metadata": {},
   "outputs": [
    {
     "data": {
      "text/plain": [
       "False"
      ]
     },
     "execution_count": 200,
     "metadata": {},
     "output_type": "execute_result"
    }
   ],
   "source": [
    "not A"
   ]
  },
  {
   "cell_type": "code",
   "execution_count": 205,
   "metadata": {},
   "outputs": [],
   "source": [
    "C= False"
   ]
  },
  {
   "cell_type": "code",
   "execution_count": 201,
   "metadata": {},
   "outputs": [
    {
     "data": {
      "text/plain": [
       "False"
      ]
     },
     "execution_count": 201,
     "metadata": {},
     "output_type": "execute_result"
    }
   ],
   "source": [
    "A ==B"
   ]
  },
  {
   "cell_type": "code",
   "execution_count": 202,
   "metadata": {},
   "outputs": [
    {
     "data": {
      "text/plain": [
       "True"
      ]
     },
     "execution_count": 202,
     "metadata": {},
     "output_type": "execute_result"
    }
   ],
   "source": [
    "A !=B"
   ]
  },
  {
   "cell_type": "code",
   "execution_count": 211,
   "metadata": {},
   "outputs": [
    {
     "data": {
      "text/plain": [
       "True"
      ]
     },
     "execution_count": 211,
     "metadata": {},
     "output_type": "execute_result"
    }
   ],
   "source": [
    "A or (B and C)\n"
   ]
  },
  {
   "cell_type": "code",
   "execution_count": 207,
   "metadata": {},
   "outputs": [
    {
     "data": {
      "text/plain": [
       "False"
      ]
     },
     "execution_count": 207,
     "metadata": {},
     "output_type": "execute_result"
    }
   ],
   "source": [
    "(A and B) or C"
   ]
  },
  {
   "cell_type": "code",
   "execution_count": 208,
   "metadata": {},
   "outputs": [
    {
     "data": {
      "text/plain": [
       "False"
      ]
     },
     "execution_count": 208,
     "metadata": {},
     "output_type": "execute_result"
    }
   ],
   "source": [
    "B or C"
   ]
  },
  {
   "cell_type": "code",
   "execution_count": 212,
   "metadata": {},
   "outputs": [
    {
     "name": "stdout",
     "output_type": "stream",
     "text": [
      "True\n"
     ]
    }
   ],
   "source": [
    "print(9>4)"
   ]
  },
  {
   "cell_type": "code",
   "execution_count": 27,
   "metadata": {},
   "outputs": [
    {
     "name": "stdout",
     "output_type": "stream",
     "text": [
      "['Frodo', 'Gandalf', 'Samwise', 'Merry', 'Pippin', 'Legolas', 'Aragorn', 'Gimli', 'Boromir']\n",
      "['Aragorn', 'Boromir', 'Frodo', 'Gandalf', 'Gimli', 'Legolas', 'Merry', 'Pippin', 'Samwise']\n"
     ]
    }
   ],
   "source": [
    "fellowship = [\"Frodo\", \"Gandalf\", \"Samwise\", \"Merry\", \"Pippin\", \"Legolas\", \"Aragorn\", \"Gimli\", \"Boromir\"]\n",
    "print(fellowship)\n",
    "fellowship.sort()\n",
    "print(fellowship)"
   ]
  },
  {
   "cell_type": "code",
   "execution_count": 28,
   "metadata": {},
   "outputs": [
    {
     "name": "stdout",
     "output_type": "stream",
     "text": [
      "['Aragorn', 'Boromir', 'Frodo', 'Gandalf', 'Gimli', 'Legolas', 'Merry', 'Pippin', 'Samwise', 'Golem']\n"
     ]
    }
   ],
   "source": [
    "fellowship.append(\"Golem\")\n",
    "print(fellowship)\n"
   ]
  },
  {
   "cell_type": "code",
   "execution_count": 31,
   "metadata": {},
   "outputs": [
    {
     "name": "stdout",
     "output_type": "stream",
     "text": [
      "['Aragorn', 'Frodo', 'Gandalf', 'Gimli', 'Merry', 'Pippin', 'Samwise']\n"
     ]
    }
   ],
   "source": [
    "fellowship.remove(\"Boromir\")\n",
    "print(fellowship)"
   ]
  },
  {
   "cell_type": "code",
   "execution_count": 32,
   "metadata": {},
   "outputs": [
    {
     "name": "stdout",
     "output_type": "stream",
     "text": [
      "['Aragorn', 'Frodo', 'Gandalf', 'Gimli', 'Merry', 'Samwise']\n"
     ]
    }
   ],
   "source": [
    "fellowship.pop(5)\n",
    "print(fellowship)"
   ]
  },
  {
   "cell_type": "code",
   "execution_count": 33,
   "metadata": {},
   "outputs": [
    {
     "name": "stdout",
     "output_type": "stream",
     "text": [
      "['Aragorn', 'Frodo', 'Golem', 'Gandalf', 'Gimli', 'Merry', 'Samwise']\n"
     ]
    }
   ],
   "source": [
    "fellowship.insert(2,\"Golem\")\n",
    "print(fellowship)"
   ]
  },
  {
   "cell_type": "code",
   "execution_count": 34,
   "metadata": {},
   "outputs": [
    {
     "name": "stdout",
     "output_type": "stream",
     "text": [
      "['Aragorn', 'Frodo', 'Golem', 'Gandalf', 'Gimli', 'Merry', 'Samwise', 100]\n"
     ]
    }
   ],
   "source": [
    "fellowship.append(100)\n",
    "print(fellowship)"
   ]
  },
  {
   "cell_type": "code",
   "execution_count": 43,
   "metadata": {},
   "outputs": [
    {
     "name": "stdout",
     "output_type": "stream",
     "text": [
      "[100, 'Samwise', 'Merry', 'Gimli', 'Gandalf', 'Golem', 'Frodo', 'Aragorn']\n"
     ]
    }
   ],
   "source": [
    "fellowship.reverse()\n",
    "print(fellowship)"
   ]
  },
  {
   "cell_type": "code",
   "execution_count": 48,
   "metadata": {},
   "outputs": [
    {
     "name": "stdout",
     "output_type": "stream",
     "text": [
      "10\n",
      "5\n",
      "3\n",
      "4\n"
     ]
    }
   ],
   "source": [
    "len(fellowship)\n",
    "print(len(fellowship))\n",
    "fellowship.index(\"Golem\")\n",
    "print(fellowship.index(\"Golem\"))\n",
    "fellowship.count(\"Golem\")\n",
    "print(fellowship.count(\"Golem\"))\n",
    "fellowship.append(\"Golem\")\n",
    "print(fellowship.count(\"Golem\"))\n"
   ]
  },
  {
   "cell_type": "code",
   "execution_count": 42,
   "metadata": {},
   "outputs": [
    {
     "name": "stdout",
     "output_type": "stream",
     "text": [
      "['donuts', 'hot chocolate', 'apples', 'bananas']\n",
      "[]\n",
      "['apples', 'bananas']\n",
      "['apples', 'bananas']\n",
      "['apples']\n"
     ]
    }
   ],
   "source": [
    "grocery_list1 = [\"apples\", \"bananas\"]\n",
    "grocery_list2 = [\"donuts\", \"hot chocolate\"]\n",
    "new_list = grocery_list2 + grocery_list1\n",
    "print(new_list)\n",
    "new_list.clear()\n",
    "print(new_list)\n",
    "third_list = grocery_list1\n",
    "print(third_list)\n",
    "copy_of_list1 = grocery_list1.copy()\n",
    "print(copy_of_list1)\n",
    "grocery_list1.pop(1)\n",
    "print(third_list)\n"
   ]
  },
  {
   "cell_type": "code",
   "execution_count": 2,
   "metadata": {},
   "outputs": [
    {
     "name": "stdout",
     "output_type": "stream",
     "text": [
      "{'fish', 'cat', 'dog'}\n",
      "set()\n",
      "{}\n"
     ]
    },
    {
     "data": {
      "text/plain": [
       "dict"
      ]
     },
     "execution_count": 2,
     "metadata": {},
     "output_type": "execute_result"
    }
   ],
   "source": [
    "# set\n",
    "x={'cat','dog','fish'}\n",
    "print(x)\n",
    "# empty set\n",
    "y=set()\n",
    "print(y)\n",
    "# empty dictionary\n",
    "dict={}\n",
    "print(dict)\n",
    "type(x)\n",
    "type(dict)"
   ]
  },
  {
   "cell_type": "code",
   "execution_count": 2,
   "metadata": {},
   "outputs": [
    {
     "name": "stdout",
     "output_type": "stream",
     "text": [
      "{'cat', 'dog', 'fish'}\n"
     ]
    }
   ],
   "source": [
    "# set can not have duplicates\n",
    "x={'cat','dog','fish','fish'}\n",
    "print(x)"
   ]
  },
  {
   "cell_type": "code",
   "execution_count": 1,
   "metadata": {},
   "outputs": [
    {
     "name": "stdout",
     "output_type": "stream",
     "text": [
      "[1, 2, 3, 4, 4, 5, 5, 6, 6]\n",
      "{1, 2, 3, 4, 5, 6}\n"
     ]
    }
   ],
   "source": [
    "y=[1,2,3,4,4,5,5,6,6]\n",
    "print(y)\n",
    "y=set(y)\n",
    "print(y)"
   ]
  },
  {
   "cell_type": "code",
   "execution_count": 3,
   "metadata": {},
   "outputs": [
    {
     "name": "stdout",
     "output_type": "stream",
     "text": [
      "{'bird', 'cat', 'dog', 'fish'}\n",
      "{'bird', 'dog', 'fish'}\n"
     ]
    }
   ],
   "source": [
    "x.add('bird')\n",
    "print(x)\n",
    "x.remove('cat')\n",
    "print(x)\n"
   ]
  },
  {
   "cell_type": "code",
   "execution_count": 4,
   "metadata": {},
   "outputs": [
    {
     "name": "stdout",
     "output_type": "stream",
     "text": [
      "[1, 2, 3, 4, 4, 5, 5, 6, 6]\n"
     ]
    }
   ],
   "source": [
    "z=[1,2,3,4,4,5,5,6,6]\n",
    "frozenset(z)\n",
    "print(z)"
   ]
  },
  {
   "cell_type": "code",
   "execution_count": 15,
   "metadata": {},
   "outputs": [
    {
     "name": "stdout",
     "output_type": "stream",
     "text": [
      "                  LOTR                  SW                HP\n",
      "0         2d animation               1970s       11 year old\n",
      "1    41st century b.c.               abyss   11 year old boy\n",
      "2               ambush         action girl             1990s\n",
      "3    aragorn character         action hero      abusive aunt\n",
      "4            axe fight       aerial combat  abusive relative\n",
      "..                 ...                 ...               ...\n",
      "406                NaN       wuxia fiction               NaN\n",
      "407                NaN              x wing               NaN\n",
      "408                NaN  x wing starfighter               NaN\n",
      "409                NaN  y wing starfighter               NaN\n",
      "410                NaN    yavin the planet               NaN\n",
      "\n",
      "[411 rows x 3 columns]\n",
      "0           2d animation\n",
      "1      41st century b.c.\n",
      "2                 ambush\n",
      "3      aragorn character\n",
      "4              axe fight\n",
      "             ...        \n",
      "101         war violence\n",
      "102              warrior\n",
      "103           witchcraft\n",
      "104               wizard\n",
      "105             wizardry\n",
      "Name: LOTR, Length: 106, dtype: object\n",
      "{'shot to death', 'violence', 'five word title', 'middle earth', 'saruman the white character', 'sword and sandal', 'first part', 'epic', 'shot with multiple arrows', 'hobbit', 'self sacrifice', 'multiple cameos', 'fictional war', 'cult film', 'live action and animation', 'standoff', 'last stand', 'magic', 'rotoscoping', 'legolas character', 'end of mankind', 'good versus evil', 'frodo baggins character', 'right hand man', 'samwise gamgee character', 'staff', 'rescue', 'cavalry charge', 'enchantment', 'death of hero', 'quest', 'siege', 'ambush', 'battle', 'sidekick', 'foot chase', 'monster', 'bridge', 'ring', 'elrond character', 'boromir character', 'stabbed in the shoulder', 'macguffin', 'goblin', 'starving', 'gollum character', 'super villain', 'lord of the rings', 'mission', 'psychotronic film', 'combat', 'demon', 'blood splatter', 'villain', 'halfling', 'journey', 'sword and sorcery', 'bow and arrow', 'psychedelic image', 'cavalry', 'falling to death', 'battleaxe', 'fortress', 'sword and fantasy', 'aragorn character', 'warrior', 'back from the dead', 'group', 'dark fantasy', 'witchcraft', 'friends who live together', 'no opening credits', 'hero', 'battlefield', 'chase', 'gimli character', 'orc', 'hunger', 'shot with a bow and arrow', 'based on novel', 'fictional country', 'dwarf', 'emaciation', 'sequel', '41st century b.c.', 'fantasy world', 'horse chase', 'surrealism', 'galadriel character', 'gore', 'wizardry', 'axe fight', 'castle', 'gandalf character', 'blood', 'wizard', 'war violence', 'kingdom', 'bilbo baggins character', 'showdown', '2d animation', 'prehistoric times', 'sorcerer', 'cult director', 'elf', 'prehistory'}\n"
     ]
    }
   ],
   "source": [
    "import pandas as pd\n",
    "import os\n",
    "\n",
    "filename = r'/Users/rumana/Documents/YouTube/TaylorSpark/DrSpark_MSE2001python/module_examples/data_for_exercises/fantasy_sets.csv'\n",
    "df = pd.read_csv(filename)\n",
    "print(df)\n",
    "\n",
    "LoTR = df['LOTR'].dropna()\n",
    "StarWars = df['SW'].dropna()\n",
    "HarryPotter = df['HP'].dropna()\n",
    "print(LoTR)\n",
    "\n",
    "LoTR = set(LoTR)\n",
    "StarWars = set(StarWars)\n",
    "HarryPotter = set(HarryPotter)\n",
    "print(LoTR)"
   ]
  },
  {
   "cell_type": "code",
   "execution_count": 16,
   "metadata": {},
   "outputs": [
    {
     "data": {
      "text/html": [
       "<div>\n",
       "<style scoped>\n",
       "    .dataframe tbody tr th:only-of-type {\n",
       "        vertical-align: middle;\n",
       "    }\n",
       "\n",
       "    .dataframe tbody tr th {\n",
       "        vertical-align: top;\n",
       "    }\n",
       "\n",
       "    .dataframe thead th {\n",
       "        text-align: right;\n",
       "    }\n",
       "</style>\n",
       "<table border=\"1\" class=\"dataframe\">\n",
       "  <thead>\n",
       "    <tr style=\"text-align: right;\">\n",
       "      <th></th>\n",
       "      <th>LOTR</th>\n",
       "      <th>SW</th>\n",
       "      <th>HP</th>\n",
       "    </tr>\n",
       "  </thead>\n",
       "  <tbody>\n",
       "    <tr>\n",
       "      <th>count</th>\n",
       "      <td>106</td>\n",
       "      <td>411</td>\n",
       "      <td>319</td>\n",
       "    </tr>\n",
       "    <tr>\n",
       "      <th>unique</th>\n",
       "      <td>106</td>\n",
       "      <td>411</td>\n",
       "      <td>319</td>\n",
       "    </tr>\n",
       "    <tr>\n",
       "      <th>top</th>\n",
       "      <td>2d animation</td>\n",
       "      <td>1970s</td>\n",
       "      <td>11 year old</td>\n",
       "    </tr>\n",
       "    <tr>\n",
       "      <th>freq</th>\n",
       "      <td>1</td>\n",
       "      <td>1</td>\n",
       "      <td>1</td>\n",
       "    </tr>\n",
       "  </tbody>\n",
       "</table>\n",
       "</div>"
      ],
      "text/plain": [
       "                LOTR     SW           HP\n",
       "count            106    411          319\n",
       "unique           106    411          319\n",
       "top     2d animation  1970s  11 year old\n",
       "freq               1      1            1"
      ]
     },
     "execution_count": 16,
     "metadata": {},
     "output_type": "execute_result"
    }
   ],
   "source": [
    "df.describe()"
   ]
  },
  {
   "cell_type": "code",
   "execution_count": 19,
   "metadata": {},
   "outputs": [
    {
     "name": "stdout",
     "output_type": "stream",
     "text": [
      "{'based on novel', 'first part', 'epic', 'self sacrifice', 'dwarf', 'fantasy world', 'monster', 'cult film', 'magic', 'dark fantasy', 'witchcraft', 'no opening credits', 'goblin', 'wizard', 'hero', 'mission', 'good versus evil', 'rescue', 'villain', 'sorcerer', 'elf'}\n"
     ]
    },
    {
     "data": {
      "text/plain": [
       "21"
      ]
     },
     "execution_count": 19,
     "metadata": {},
     "output_type": "execute_result"
    }
   ],
   "source": [
    "# Union\n",
    "LoTR_HP_common=LoTR.intersection(HarryPotter)\n",
    "print(LoTR_HP_common)\n",
    "len(LoTR_HP_common)"
   ]
  },
  {
   "cell_type": "code",
   "execution_count": 20,
   "metadata": {},
   "outputs": [
    {
     "name": "stdout",
     "output_type": "stream",
     "text": [
      "{'violence', 'sword and sorcery', 'epic', 'battle', 'ambush', 'self sacrifice', 'sequel', 'foot chase', 'monster', 'fictional war', 'cult film', 'friends who live together', 'no opening credits', 'hero', 'super villain', 'mission', 'good versus evil', 'chase', 'psychotronic film', 'combat', 'rescue'}\n"
     ]
    },
    {
     "data": {
      "text/plain": [
       "21"
      ]
     },
     "execution_count": 20,
     "metadata": {},
     "output_type": "execute_result"
    }
   ],
   "source": [
    "# Find the common elements between LoTR and StarWars\n",
    "LoTR_SW_common=LoTR.intersection(StarWars)\n",
    "print(LoTR_SW_common)\n",
    "len(LoTR_SW_common)"
   ]
  },
  {
   "cell_type": "code",
   "execution_count": 21,
   "metadata": {},
   "outputs": [
    {
     "name": "stdout",
     "output_type": "stream",
     "text": [
      "{'monster', 'cult film', 'no opening credits', 'rescue', 'hero', 'good versus evil', 'epic', 'mission', 'self sacrifice'}\n"
     ]
    },
    {
     "data": {
      "text/plain": [
       "9"
      ]
     },
     "execution_count": 21,
     "metadata": {},
     "output_type": "execute_result"
    }
   ],
   "source": [
    "# common in all three\n",
    "all_three_common=LoTR.intersection(StarWars).intersection(HarryPotter)\n",
    "print(all_three_common)\n",
    "len(all_three_common)"
   ]
  },
  {
   "cell_type": "code",
   "execution_count": 25,
   "metadata": {},
   "outputs": [
    {
     "name": "stdout",
     "output_type": "stream",
     "text": [
      "{'shot to death', 'violence', 'five word title', 'saruman the white character', 'middle earth', 'sword and sandal', 'shot with multiple arrows', 'hobbit', 'multiple cameos', 'fictional war', 'live action and animation', 'standoff', 'last stand', 'rotoscoping', 'legolas character', 'end of mankind', 'frodo baggins character', 'right hand man', 'samwise gamgee character', 'staff', 'cavalry charge', 'enchantment', 'death of hero', 'quest', 'siege', 'ambush', 'battle', 'sidekick', 'foot chase', 'bridge', 'ring', 'elrond character', 'boromir character', 'stabbed in the shoulder', 'macguffin', 'starving', 'gollum character', 'super villain', 'lord of the rings', 'psychotronic film', 'combat', 'demon', 'blood splatter', 'halfling', 'journey', 'sword and sorcery', 'bow and arrow', 'psychedelic image', 'cavalry', 'falling to death', 'battleaxe', 'fortress', 'sword and fantasy', 'aragorn character', 'warrior', 'back from the dead', 'group', 'friends who live together', 'battlefield', 'chase', 'gimli character', 'orc', 'hunger', 'shot with a bow and arrow', 'fictional country', 'emaciation', 'sequel', '41st century b.c.', 'horse chase', 'surrealism', 'galadriel character', 'gore', 'wizardry', 'axe fight', 'castle', 'gandalf character', 'blood', 'war violence', 'kingdom', 'bilbo baggins character', 'showdown', '2d animation', 'prehistoric times', 'cult director', 'prehistory'}\n"
     ]
    },
    {
     "data": {
      "text/plain": [
       "85"
      ]
     },
     "execution_count": 25,
     "metadata": {},
     "output_type": "execute_result"
    }
   ],
   "source": [
    "# set difference \n",
    "diffs=LoTR.difference(HarryPotter)\n",
    "print(diffs)\n",
    "len(diffs)"
   ]
  },
  {
   "cell_type": "code",
   "execution_count": 28,
   "metadata": {},
   "outputs": [
    {
     "name": "stdout",
     "output_type": "stream",
     "text": [
      "{'boat', 'stormtrooper', 'aerial combat', 'steam locomotive', 'anti hero', 'disguise', 'spaceship', 'sniper', 'stuttering', 'rebel base', 'triumph motor company', 'hobbit', 'princess warrior', 'vivarium', 'multiple cameos', 'cousin', 'cult film', 'dean thomas character', 'standoff', 'yavin the planet', 'dinner', 'murder of a man', 'school prefect', 'handheld device', 'draco malfoy character', 'gringotts wizarding bank', 'last stand', 'taking notes', 'hangar', 'starship fleet', 'legolas character', 'locomotive', 'flying key', 'good vs evil', 'numbered sequel', 'x wing', 'laser turret', 'hovercar', 'hand to hand combat', 'friend', 'lamp', '1970s', 'incestuous kiss', 'two word title', 'courage', 'farmboy', 'enchantment', 'death of hero', 'death star', 'crash site', 'shot with a laser gun', 'flying object', 'all star cast', 'passenger train carriage', 'battle', 'chewbacca character', 'pre teen witch', 'crashed pod', 'hitman', 'subjective camera', 'child in jeopardy', 'insult', 'birthday cake', 'umbrella', 'male alien', 'interrogation droid', 'brother sister relationship', 'classroom', 'rocky canyon', 'tusken raider', 'hyphen in title', 'harry potter movie franchise', 'boromir character', 'stabbed in the shoulder', 'escape', 'macguffin', 'fight', 'reward', 'mission', 'action hero', 'psychotronic film', 'alternate version', 'combat', 'prefect', 'jedi mind trick', 'gregory goyle character', 'twin', 'blaster rifle', 'ghost', 'totalitarianism', 'animal', 'red haired boy', 'comlink', 'serpent', 'impersonating an enemy soldier', 'exploding starfighter', \"number in character's name\", 'tall alien', 'halfling', 'ticket', 'snack trolley', 'troll', '11 year old', 'medal ceremony', 'levitating candle', 'sword and fantasy', 'magical newspaper', 'cult figure', 'occult', 'magical broomstick', 'cult classic', 'victory', 'talking object', 'winged key', 'train ticket', 'galactic empire', 'imperial star destroyer', 'number in title', 'bank', 'back from the dead', 'destruction of planet', 'cruiser', 'library', 'enchanted ceiling', 'levitating object', 'special edition', 'governor', 'space battle', 'oliver wood character', 'super weapon', 'beard', 'spacecraft', 'alien', 'galactic war', 'hunger', 'rubeus hagrid character', 'george weasley character', 'zoo', 'part of trilogy', 'severed arm', 'ship', 'shot with a bow and arrow', 'book', 'imperial governor', 'film starts with text', 'loss of left arm', 'planet tatooine', 'underdog', 'chess', 'cleaning', 'new school', 'abusive aunt', 'fantasy world', 'portrait comes to life', 'surrealism', 'common room', 'farmer', 'sibling kiss', 'immortality', 'wizardry', 'tough girl', 'x wing starfighter', 'extraterrestrial', 'space', 'holographic projection', 'vapor farmer', 'first film in series', 'school of magic', 'black cape', 'jedi training', 'winged object', 'kingdom', 'poetic justice', 'showdown', 'space pilot', 'train station', 'golden snitch', '2d animation', 'unicorn', 'disney star wars', 'mail delivery', 'luke skywalker character', 'transformation', 'shot to death', 'interspecies relationship', 'violence', 'uncle nephew relationship', 'neck breaking', 'five word title', 'middle earth', 'family dinner', 'bank vault', 'beast', 'animated chess', 'grand moff', 'orchestral music score', 'burning candle', 'evil empire', 'lily potter character', 'boba fett character', 'c 3po character', 'symphonic music score', 'newspaper', 'shoot first', 'handheld lamp', 'outer space', 'good man', 'the force', 'rotoscoping', 'grandfather clock', 'identical twins', 'planet killer', 'distraction', 'reference to jabba the hutt', 'potion', 'watercraft', 'single shot', 'luggage trolley', 'talking robot', 'frodo baggins character', 'witch', 'hat', 'staff', 'rescue', 'cruiser starship', 'saga', 'cavalry charge', 'boy wears eyeglasses', 'gun', 'blockbuster', 'hypnosis', 'harp', 'lavatory', 'vault', \"character's point of view camera shot\", 'human being', 'sandcrawler', 'band', 'rebel', 'sand dune', 'damaged spectacles', 'halloween', 'innocent deaths avenged', 'jedi', 'foot chase', 'mountain troll', 'seamus finnigan character', 'imperial stormtrooper', 'dormitory', 'princess leia organa character', 'sword', 'brick wall', 'mind control', 'droid', 'empire', 'nomad', 'blaster pistol', 'elrond character', 'pre teenager', 'planet viewed from outer space', 'aunt nephew relationship', 'gollum character', 'long time ago', 'canine', 'christmas', 'pilot', 'girl', 'cult favorite', 'laser weapon', 'sabotage', 'vine', 'invisibility cloak', 'mass murder', 'game', 'starfighter', 'blood splatter', 'vauxhall vectra exstate', 'darth vader character', 'villain', 'bearded man', 'bravery', 'rodian', 'orphan', 'weapon of mass destruction', 'famous line', 'trapdoor', 'human becoming an animal', 'journey', 'sword and sorcery', 'automatic doors', 'bow and arrow', 'lord voldemort character', 'grand moff tarkin character', 'elevator', 'muggle', 'castle thunder', 'handheld communicator', 'fortress', 'space opera', 'pre teen', 'leather gloves', 'key', 'weapons fire', 'multiple versions', 'r2 d2 character', 'rebel starship', 'female ghost', 'wedge antilles character', 'fairy creature', 'emperor', 'group', 'deep voice', 'candy', 'dark fantasy', 'witchcraft', 'helmet', 'flying ship', 'pet as gift', 'imperial starship', 'bar fight', 'hero', 'flying broomstick', 'teacher', 'power', 'best friend', 'hostage', 'boy hero', 'battlefield', 'train passenger car', 'applause', 'new student', 'warp speed', 'forehead scar', 'living portrait', 'animate painting', 'orc', 'gold robot', 'wrist restraints', 'scar', 'moving staircase', 'laser', 'bipedal robot', 'cat', 'canyon', 'corvette starship', 'lifting a male into the air', 'sequel', 'attempted child strangulation', 'fictitious sport', 'opening crawl', 'human android relationship', 'gore', 'good woman', 'birthday', 'centaur', 'slow motion scene', 'sand', 'sword fight', 'talking droid', 'jedi master', 'broomstick', 'binoculars', 'android', 'music by john williams', 'elitism', 'sorting hat', 'starship bridge', 'invisibility', 'blood', 'blaster', 'levitation', 'disarming someone', 'bully', 'family secret', 'robot', 'talking snake', 'prehistoric times', 'desert', 'reference to the clone wars', 'telekinesis', 'knight', 'cult director', 'eyeglasses', 'toad', 'attack', 'space station', 'staircase', 'teen angst', 'james potter character', 'ron weasley character', 'destiny', 'robot human relationship', 'first part', 'three headed dog', 'star destroyer', 'aunt', 'england', 'magic wand', 'swordsman', 'passenger', 'fraternal twins', 'amphibian', 'older hero', 'live action and animation', 'black helmet', 'vauxhall cavalier', 'non human', 'severus snape character', 'magic', 'diagon alley', 'man with long hair', 'minerva mcgonagall character', 'mirror', 'vauxhall motor vehicle', 'wuxia fiction', 'mysterious', 'end of mankind', 'han solo character', 'mysterious villain', 'captain', 'right hand man', 'invented language', 'night time', 'warrior culture', 'death ray', 'plea', 'albus dumbledore character', 'sword and planet', 'stop motion animation', 'science fantasy', 'dysfunctional family', 'droid human relationship', 'hologram', 'child abuse', 'giant creature', 'lightsaber', 'twins', 'sidekick', 'animal enclosure', 'monster', 'magic book', 'bridge', 'shootout', 'strangulation', 'school life', 'hobgoblin', 'schoolgirl', 'wookiee', 'ring', 'force choke', 'first of series', 'hospital wing', 'human female', 'abyss', 'famous score', 'red herring', 'hooded figure', 'scar on the forehead', 'repulsorcraft', 'lifting an adult into the air', 'targeting screen', 'protocol droid', 'fairy tale', 'reverse footage', 'goblin', 'prisoner', 'know it all', 'lord of the rings', 'quidditch', 'skeleton', 'spaceport', 'impersonation', 'preemptive strike', 'princess', 'stormtrooper character', 'magical cloak', '11 year old boy', 'fourth part', 'genocide', 'burnt body', 'stealing', 'obi wan kenobi character', 'soldier', 'owl', 'ithorian', 'lightsaber duel', 'starship battle', 'chocolate frog', 'teacher student relationship', 'male ghost', 'sentient hat', 'tractor beam', 'jawa', 'projectile weapon', 'handheld weapon', 'space western', 'psychedelic image', 'husband wife relationship', 'assault', 'falling to death', 'forced perspective', 'battleaxe', 'human in outer space', 'astromech droid', 'communications device', 'reference to anakin skywalker', 'creature', 'black armor', 'giant humanoid', 'vehicle', 'magical mirror', 'message', 'warrior', 'man wears eyeglasses', 'human', 'no opening credits', 'hyperspace', 'jabba the hutt character', 'abusive relative', 'male female relationship', 'chase', 'talking animal', 'anger', 'planet', 'impersonating an imperial stormtrooper', 'holographic message', 'telepathy', 'filius flitwick character', 'dog', 'passenger compartment', 'ginny weasley character', 'tough guy', 'reluctant hero', 'based on novel', 'class', 'wmd', 'school dormitory', 'unicorn blood', 'space travel', 'baby dragon', 'abusive uncle', 'character name in title', 'honor', 'emaciation', 'devaronian', 'y wing starfighter', '41st century b.c.', 'argus filch character', 'allegory of multiple historical events.', 'galadriel character', 'detention cell', 'suicide', 'white owl', 'starfighter pilot', 'trash compactor', 'gandalf character', 'action girl', 'alien race', 'male protagonist', 'letter', 'duel', 'bilbo baggins character', 'scavenger', 'aqualish', 'sword duel', 'petunia dursley character', 'wand', 'boy', 'student', 'national film registry', 'lifted by the throat', 'poetry recitation', 'prehistory', 'spacecraft cockpit', 'death of friend', 'space bounty hunter', 'uniform', 'night', 'starship interior', 'saruman the white character', 'weapon', 'forest', 'bad guy bar', 'prison escape', 'sword and sandal', 'roman numeral in title', 'epic', 'shot with multiple arrows', 'hereditary gift of witchcraft', 'scroll', 'self sacrifice', 'bipedal droid', 'scanimate', 'great hall', 'farm', 'stun blast', 'surprise ending', 'prison', '1990s', 'stadium', 'pre teen boy', 'fictional war', 'family relationships', 'dragon', 'fred weasley character', 'spirit', 'infirmary', 'mixed martial arts', 'jet fighter', 'motor vehicle', 'humanoid robot', 'starship pilot', 'spell', 'paralysis', 'desert planet', 'year 1992', 'good versus evil', 'lucasfilm', 'colon in title', 'old bearded man', 'loss of family', 'gunfight', 'feline', 'samwise gamgee character', 'gunfighter', 'galaxy', 'computer', 'pleading', 'rebellion', 'gun under a table', 'mouse droid', 'molly weasley character', 'lifting someone into the air', 'shared universe', 'talking painting', 'gun fight', 'quest', 'siege', 'mirror does not reflect reality', 'space war', 'ambush', 'dudley dursley character', 'untucked shirt flap', 'computer system', 'endangered princess', 'female fighter', 'girl with long hair', 'smuggler', 'famous opening theme', 'oversize chess set', 'troubled production', 'world destruction', 'lightsaber battle', 'the number 713', 'starving', 'feast', 'super villain', 'theft', 'attacked by vine', 'murder', 'escape pod', 'chocolate', 'cloak', 'general', 'triumph bonneville', 'demon', 'hermione granger character', 'exhaust shaft', 'cantina', 'train platform', 'money', 'loss of arm', 'marksman h combat remote', 'moisture farmer', 'twin suns', 'rodent', 'mystic', 'hermit', 'station wagon', 'professor', 'evil wizard', 'based on young adult novel', 'future', 'laser gun', 'tie advanced x1 starfighter', 'starfighter cockpit', 'mother son relationship', 'vernon dursley character', 'princess heroine', 'medal', 'snake', 'millennium falcon', 'mask', 'cavalry', 'pre teen girl', 'male cousin', 'schoolboy', 'fictional planet', 'interrogation', 'spaghetti western', 'male professor', 'gunslinger', 'twin brothers', 'human male', 'aragorn character', 'design flaw', 'home', 'vauxhall', 'white beard', 'alien creature', 'pre teenage boy', 'translator', 'school', 'friends who live together', 'bounty hunter', 'school infirmary', 'loss of right arm', 'vincent crabbe character', 'pod', 'jail cell', 'heroine', 'gimli character', 'bird', 'tie fighter', 'train', 'walls close in', 'sunset', 'talking hat', 'supernatural power', 'exploding planet', 'boarding school', 'controversy', 'snowy owl', 'disney', 'fictional country', 'alderaan the planet', 'woman in uniform', 'uncle', 'warner bros.', 'dwarf', 'martial arts', 'sentient object', 'percy weasley character', 'horse chase', 'chocolate animal', 'musical instrument', 'disability', 'leitmotif', 'pre teenage girl', 'axe fight', 'surrey england', 'castle', 'exploding ship', 'wizard', 'laser cannon', 'war violence', 'bar', 'kiss', 'smoke', 'child hero', 'ancient astronaut', 'title spoken by character', 'friendship', 'full length mirror', 'rat', 'crossbow', 'dragon egg', 'wilhelm scream', 'blockade runner', 'shrinking room', 'hardcover book', 'harry potter character', 'sorcerer', 'neville longbottom character', 'landspeeder', 'elf'}\n"
     ]
    },
    {
     "data": {
      "text/plain": [
       "776"
      ]
     },
     "execution_count": 28,
     "metadata": {},
     "output_type": "execute_result"
    }
   ],
   "source": [
    "union_fantasy=LoTR.union(StarWars).union(HarryPotter)\n",
    "print(union_fantasy)\n",
    "len(union_fantasy)\n",
    "\n",
    "\n"
   ]
  },
  {
   "cell_type": "markdown",
   "metadata": {},
   "source": [
    "- union() will create new set with all items in two other sets.\n",
    "- intersection() will create new set with all values in both of two other sets.\n",
    "- difference() will create a new set with all values present in one, but not the other."
   ]
  },
  {
   "cell_type": "code",
   "execution_count": 33,
   "metadata": {},
   "outputs": [
    {
     "name": "stdout",
     "output_type": "stream",
     "text": [
      "{4}\n",
      "{1, 2, 3, 4, 5, 6, 7, 8, 9, 10, 11}\n",
      "{1, 2, 3}\n"
     ]
    },
    {
     "data": {
      "text/plain": [
       "3"
      ]
     },
     "execution_count": 33,
     "metadata": {},
     "output_type": "execute_result"
    }
   ],
   "source": [
    "x={1,2,3,4,5}\n",
    "y={4,5,6,7,8}\n",
    "z={4,7,8,9,10,11}\n",
    "common=x.intersection(y).intersection(z)\n",
    "print(common)\n",
    "len(common)\n",
    "\n",
    "union_=x.union(y).union(z)\n",
    "print(union_)\n",
    "len(union_)\n",
    "\n",
    "diff_=x.difference(y)\n",
    "print(diff_)\n",
    "len(diff_)"
   ]
  },
  {
   "cell_type": "code",
   "execution_count": 46,
   "metadata": {},
   "outputs": [
    {
     "name": "stdout",
     "output_type": "stream",
     "text": [
      "(1, 2, 3, 4, 5)\n",
      "5\n"
     ]
    }
   ],
   "source": [
    "tuple=(1,2,3,4,5)\n",
    "print(tuple)\n",
    "print(tuple[4])\n",
    "\n"
   ]
  },
  {
   "cell_type": "code",
   "execution_count": 54,
   "metadata": {},
   "outputs": [
    {
     "name": "stdout",
     "output_type": "stream",
     "text": [
      "1\n",
      "2\n",
      "2\n",
      "1\n"
     ]
    }
   ],
   "source": [
    "# tuples help in swaping varialbles\n",
    "a,b=(1,2)\n",
    "print(a)\n",
    "print(b)\n",
    "\n",
    "a,b=b,a\n",
    "print(a)\n",
    "print(b)"
   ]
  },
  {
   "cell_type": "code",
   "execution_count": 57,
   "metadata": {},
   "outputs": [
    {
     "name": "stdout",
     "output_type": "stream",
     "text": [
      "([1, 2, 3, 4, 5], ['apple', 'banana', 'cherry'], 'hello', 'hi')\n",
      "[1, 2, 3, 4, 5]\n",
      "['apple', 'banana', 'cherry']\n",
      "hello\n",
      "hi\n"
     ]
    }
   ],
   "source": [
    "tuple_1=([1,2,3,4,5],['apple','banana','cherry'],'hello','hi')\n",
    "print(tuple_1)\n",
    "type(tuple_1)\n",
    "\n",
    "numbers, fruits_, string1, string2=tuple_1\n",
    "print(numbers)\n",
    "print(fruits_)\n",
    "print(string1)\n",
    "print(string2)\n"
   ]
  },
  {
   "cell_type": "code",
   "execution_count": 64,
   "metadata": {},
   "outputs": [
    {
     "ename": "TypeError",
     "evalue": "'tuple' object does not support item assignment",
     "output_type": "error",
     "traceback": [
      "\u001b[0;31m---------------------------------------------------------------------------\u001b[0m",
      "\u001b[0;31mTypeError\u001b[0m                                 Traceback (most recent call last)",
      "Cell \u001b[0;32mIn[64], line 2\u001b[0m\n\u001b[1;32m      1\u001b[0m tup\u001b[38;5;241m=\u001b[39m(\u001b[38;5;241m1\u001b[39m,\u001b[38;5;241m2\u001b[39m,\u001b[38;5;241m3\u001b[39m,\u001b[38;5;241m4\u001b[39m,\u001b[38;5;241m5\u001b[39m)\n\u001b[0;32m----> 2\u001b[0m tup[\u001b[38;5;241m0\u001b[39m]\u001b[38;5;241m=\u001b[39m\u001b[38;5;241m10\u001b[39m\n",
      "\u001b[0;31mTypeError\u001b[0m: 'tuple' object does not support item assignment"
     ]
    }
   ],
   "source": [
    "tup=(1,2,3,4,5)\n",
    "tup[0]=10"
   ]
  },
  {
   "cell_type": "markdown",
   "metadata": {},
   "source": [
    "Tuples cannot change their values (immutable) so if you really need to why are you using a\n",
    "tuple? But you can always convert to list, change, then convert list to tuple"
   ]
  },
  {
   "cell_type": "code",
   "execution_count": 66,
   "metadata": {},
   "outputs": [
    {
     "name": "stdout",
     "output_type": "stream",
     "text": [
      "[1, 2]\n",
      "([100, 2], 3, 4, 5)\n"
     ]
    }
   ],
   "source": [
    "tuple_2=([1,2],3,4,5)\n",
    "a,b,c,d= tuple_2\n",
    "print(a)\n",
    "a[0]=100\n",
    "print(tuple_2)\n"
   ]
  },
  {
   "cell_type": "code",
   "execution_count": 80,
   "metadata": {},
   "outputs": [
    {
     "name": "stdout",
     "output_type": "stream",
     "text": [
      "Rick\n",
      "Morty\n"
     ]
    }
   ],
   "source": [
    "rick_dict={'first name':'Rick','last name':'Sanchez', 'age':70,'catchphrase':'Wubba lubba dub dub'}\n",
    "morty_dict={'first name':'Morty','last name':'Smith', 'age':80,'catchphrase':'this is the way'} \n",
    "summer_dict={'first name':'Summer','last name':'Smith', 'age':30,'catchphrase':'I am the best'}\n",
    "\n",
    "print(rick_dict['first name'])\n",
    "print(morty_dict.get('first name'))\n"
   ]
  },
  {
   "cell_type": "code",
   "execution_count": 74,
   "metadata": {},
   "outputs": [
    {
     "name": "stdout",
     "output_type": "stream",
     "text": [
      "None\n",
      "unknown\n"
     ]
    }
   ],
   "source": [
    "# print(rick_dict['origin'])\n",
    "print(rick_dict.get('origin'))\n",
    "print(rick_dict.get('origin','unknown'))"
   ]
  },
  {
   "cell_type": "markdown",
   "metadata": {},
   "source": [
    "A dictionary can also contain many dictionaries, this is called nested dictionaries."
   ]
  },
  {
   "cell_type": "code",
   "execution_count": 78,
   "metadata": {},
   "outputs": [
    {
     "name": "stdout",
     "output_type": "stream",
     "text": [
      "{'rick_dict': {'first name': 'Rick', 'last name': 'Sanchez', 'age': 70, 'catchphrase': 'Wubba lubba dub dub'}, 'morty_dict': {'first name': 'Morty', 'last name': 'Smith', 'age': 80, 'catchphrase': 'this is the way'}, 'summer_dict': {'first name': 'Summer', 'last name': 'Smith', 'age': 30, 'catchphrase': 'I am the best'}}\n"
     ]
    },
    {
     "data": {
      "text/plain": [
       "3"
      ]
     },
     "execution_count": 78,
     "metadata": {},
     "output_type": "execute_result"
    }
   ],
   "source": [
    "# nested dictionary\n",
    "messed_up_dict={\"rick_dict\":rick_dict,\"morty_dict\":morty_dict,\"summer_dict\":summer_dict}\n",
    "print(messed_up_dict)\n",
    "len(messed_up_dict)"
   ]
  },
  {
   "cell_type": "code",
   "execution_count": 86,
   "metadata": {},
   "outputs": [
    {
     "name": "stdout",
     "output_type": "stream",
     "text": [
      "12.5\n",
      "(3+4j)\n",
      "(5+4j)\n",
      "3.0\n",
      "4.0\n"
     ]
    }
   ],
   "source": [
    "x=5\n",
    "y=2.5\n",
    "z=x+y\n",
    "z=x*y\n",
    "print(z)\n",
    "num_complex=3+4j\n",
    "print(num_complex)\n",
    "z=num_complex+2\n",
    "print(z)\n",
    "print(num_complex.real)\n",
    "print(num_complex.imag)"
   ]
  },
  {
   "cell_type": "code",
   "execution_count": 94,
   "metadata": {},
   "outputs": [
    {
     "name": "stdout",
     "output_type": "stream",
     "text": [
      "2\n",
      "1\n"
     ]
    }
   ],
   "source": [
    "# modulus: remainder\n",
    "z=5%3\n",
    "print(z)\n",
    "# floor division: integer division\n",
    "z=5//3\n",
    "print(z)"
   ]
  },
  {
   "cell_type": "code",
   "execution_count": 95,
   "metadata": {},
   "outputs": [
    {
     "name": "stdout",
     "output_type": "stream",
     "text": [
      "125\n"
     ]
    }
   ],
   "source": [
    "z=5**3\n",
    "print(z)"
   ]
  },
  {
   "cell_type": "code",
   "execution_count": 96,
   "metadata": {},
   "outputs": [
    {
     "name": "stdout",
     "output_type": "stream",
     "text": [
      "8\n"
     ]
    }
   ],
   "source": [
    "x=5\n",
    "x+=3\n",
    "print(x)"
   ]
  },
  {
   "cell_type": "code",
   "execution_count": 98,
   "metadata": {},
   "outputs": [
    {
     "data": {
      "text/plain": [
       "False"
      ]
     },
     "execution_count": 98,
     "metadata": {},
     "output_type": "execute_result"
    }
   ],
   "source": [
    "x==y"
   ]
  },
  {
   "cell_type": "code",
   "execution_count": 99,
   "metadata": {},
   "outputs": [
    {
     "data": {
      "text/plain": [
       "True"
      ]
     },
     "execution_count": 99,
     "metadata": {},
     "output_type": "execute_result"
    }
   ],
   "source": [
    "x>y"
   ]
  },
  {
   "cell_type": "code",
   "execution_count": 100,
   "metadata": {},
   "outputs": [
    {
     "data": {
      "text/plain": [
       "True"
      ]
     },
     "execution_count": 100,
     "metadata": {},
     "output_type": "execute_result"
    }
   ],
   "source": [
    "x!=y"
   ]
  },
  {
   "cell_type": "code",
   "execution_count": 103,
   "metadata": {},
   "outputs": [
    {
     "name": "stdout",
     "output_type": "stream",
     "text": [
      "8\n",
      "2.5\n"
     ]
    }
   ],
   "source": [
    "print(x)\n",
    "print(y)"
   ]
  },
  {
   "cell_type": "markdown",
   "metadata": {},
   "source": [
    "and: Returns True if both statements are true x < 5 and x < 10\n",
    "\n",
    "or: Returns True if one of the statements is true x < 5 or x < 4\n",
    "\n",
    "not: Reverse the result, returns False if the result is true not(x < 5 and x < 10)"
   ]
  },
  {
   "cell_type": "code",
   "execution_count": 102,
   "metadata": {},
   "outputs": [
    {
     "data": {
      "text/plain": [
       "False"
      ]
     },
     "execution_count": 102,
     "metadata": {},
     "output_type": "execute_result"
    }
   ],
   "source": [
    "x<y and x>1"
   ]
  },
  {
   "cell_type": "code",
   "execution_count": 104,
   "metadata": {},
   "outputs": [
    {
     "data": {
      "text/plain": [
       "True"
      ]
     },
     "execution_count": 104,
     "metadata": {},
     "output_type": "execute_result"
    }
   ],
   "source": [
    "x<y or x>1"
   ]
  },
  {
   "cell_type": "code",
   "execution_count": 105,
   "metadata": {},
   "outputs": [
    {
     "data": {
      "text/plain": [
       "False"
      ]
     },
     "execution_count": 105,
     "metadata": {},
     "output_type": "execute_result"
    }
   ],
   "source": [
    "not(x!=y)"
   ]
  },
  {
   "cell_type": "code",
   "execution_count": 106,
   "metadata": {},
   "outputs": [
    {
     "data": {
      "text/plain": [
       "False"
      ]
     },
     "execution_count": 106,
     "metadata": {},
     "output_type": "execute_result"
    }
   ],
   "source": [
    "x is y"
   ]
  },
  {
   "cell_type": "code",
   "execution_count": 107,
   "metadata": {},
   "outputs": [
    {
     "data": {
      "text/plain": [
       "True"
      ]
     },
     "execution_count": 107,
     "metadata": {},
     "output_type": "execute_result"
    }
   ],
   "source": [
    "x is not y"
   ]
  },
  {
   "cell_type": "code",
   "execution_count": 109,
   "metadata": {},
   "outputs": [
    {
     "data": {
      "text/plain": [
       "True"
      ]
     },
     "execution_count": 109,
     "metadata": {},
     "output_type": "execute_result"
    }
   ],
   "source": [
    "new_list=['cat','dog','fish']\n",
    "'fish' in new_list"
   ]
  },
  {
   "cell_type": "code",
   "execution_count": 110,
   "metadata": {},
   "outputs": [
    {
     "data": {
      "text/plain": [
       "False"
      ]
     },
     "execution_count": 110,
     "metadata": {},
     "output_type": "execute_result"
    }
   ],
   "source": [
    "'shark' in new_list"
   ]
  },
  {
   "cell_type": "code",
   "execution_count": 111,
   "metadata": {},
   "outputs": [
    {
     "data": {
      "text/plain": [
       "True"
      ]
     },
     "execution_count": 111,
     "metadata": {},
     "output_type": "execute_result"
    }
   ],
   "source": [
    "'shark' not in new_list"
   ]
  },
  {
   "cell_type": "code",
   "execution_count": 116,
   "metadata": {},
   "outputs": [
    {
     "name": "stdout",
     "output_type": "stream",
     "text": [
      "The number is 0\n"
     ]
    }
   ],
   "source": [
    "x=0\n",
    "if x>0:\n",
    "    print('The number is larger than 0')\n",
    "elif x<0:\n",
    "    print('The number is less than 0')\n",
    "else:\n",
    "    print('The number is 0')"
   ]
  },
  {
   "cell_type": "code",
   "execution_count": 119,
   "metadata": {},
   "outputs": [
    {
     "name": "stdout",
     "output_type": "stream",
     "text": [
      "The number is larger than 0\n"
     ]
    }
   ],
   "source": [
    "x=4\n",
    "if x>0:\n",
    "    print('The number is larger than 0')\n",
    "elif x>0 and x<10:\n",
    "    print('The number is between 0 and 10')\n",
    "elif x<0:\n",
    "    print('The number is less than 0')\n",
    "else:\n",
    "    print('The number is 0')"
   ]
  },
  {
   "cell_type": "code",
   "execution_count": 120,
   "metadata": {},
   "outputs": [
    {
     "name": "stdout",
     "output_type": "stream",
     "text": [
      "The number is between 0 and 10\n"
     ]
    }
   ],
   "source": [
    "x=4\n",
    "if x>0 and x<3:\n",
    "    print('The number is larger than 0')\n",
    "elif x>0 and x<10:\n",
    "    print('The number is between 0 and 10')\n",
    "elif x<0:\n",
    "    print('The number is less than 0')\n",
    "else:\n",
    "    print('The number is 0')"
   ]
  },
  {
   "cell_type": "code",
   "execution_count": 123,
   "metadata": {},
   "outputs": [
    {
     "name": "stdout",
     "output_type": "stream",
     "text": [
      "The number is between 0 and 10\n"
     ]
    }
   ],
   "source": [
    "# nested if\n",
    "x=4\n",
    "if x>0:\n",
    "    if x>0 and x<10:\n",
    "        print('The number is between 0 and 10')\n",
    "    elif x>0 and x>10:\n",
    "        print('The number is a big number')\n",
    "elif x<0:\n",
    "    print('The number is less than 0')\n",
    "else:\n",
    "    print('The number is 0')"
   ]
  },
  {
   "cell_type": "code",
   "execution_count": 126,
   "metadata": {},
   "outputs": [
    {
     "data": {
      "text/plain": [
       "True"
      ]
     },
     "execution_count": 126,
     "metadata": {},
     "output_type": "execute_result"
    }
   ],
   "source": [
    "fruits = 'apple'\n",
    "isApple=True if fruits=='apple' else False\n",
    "bool(isApple)"
   ]
  },
  {
   "cell_type": "code",
   "execution_count": 130,
   "metadata": {},
   "outputs": [
    {
     "name": "stdout",
     "output_type": "stream",
     "text": [
      "The number is between 0 and 10\n"
     ]
    }
   ],
   "source": [
    "x=4\n",
    "fruit='Apple'\n",
    "if x>0:\n",
    "    if x>0 and x<10 and fruit=='Apple':\n",
    "        print('The number is between 0 and 10')\n",
    "    elif x>0 and x>10:\n",
    "        print('The number is a big number')\n",
    "elif x<0:\n",
    "    pass\n",
    "else:\n",
    "    print('The number is 0')"
   ]
  }
 ],
 "metadata": {
  "kernelspec": {
   "display_name": "DL-env",
   "language": "python",
   "name": "python3"
  },
  "language_info": {
   "codemirror_mode": {
    "name": "ipython",
    "version": 3
   },
   "file_extension": ".py",
   "mimetype": "text/x-python",
   "name": "python",
   "nbconvert_exporter": "python",
   "pygments_lexer": "ipython3",
   "version": "3.10.9"
  }
 },
 "nbformat": 4,
 "nbformat_minor": 2
}

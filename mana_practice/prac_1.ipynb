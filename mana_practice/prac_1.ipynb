{
 "cells": [
  {
   "cell_type": "code",
   "execution_count": 150,
   "metadata": {},
   "outputs": [
    {
     "name": "stdout",
     "output_type": "stream",
     "text": [
      "y is greater than x\n"
     ]
    }
   ],
   "source": [
    "x=1\n",
    "y=2\n",
    "if y > x:\n",
    "    print(\"y is greater than x\")"
   ]
  },
  {
   "cell_type": "code",
   "execution_count": 151,
   "metadata": {},
   "outputs": [
    {
     "name": "stdout",
     "output_type": "stream",
     "text": [
      "Alice\n",
      "Bob\n",
      "Charlie\n",
      "David\n"
     ]
    }
   ],
   "source": [
    "class_list = [\"Alice\", \"Bob\", \"Charlie\", \"David\"]\n",
    "for name in class_list:\n",
    "    print(name)"
   ]
  },
  {
   "cell_type": "code",
   "execution_count": 152,
   "metadata": {},
   "outputs": [
    {
     "name": "stdout",
     "output_type": "stream",
     "text": [
      "kitty\n",
      "kitty\n",
      "KITTY\n",
      "WALKS LIKE A DUCK, QUACKS LIKE A DUCK, IT'S A DUCK\n",
      "100\n",
      "kitty\n"
     ]
    }
   ],
   "source": [
    "cat1= \"kitty\"\n",
    "cat2= cat1\n",
    "print(cat1)\n",
    "print(cat2)\n",
    "\n",
    "\n",
    "cat3=cat1.upper()\n",
    "print(cat3)\n",
    "str=\"Walks like a duck, quacks like a duck, it's a duck\"\n",
    "print(str.upper())\n",
    "\n",
    "cat1= 100\n",
    "print(cat1)\n",
    "print(cat2)"
   ]
  },
  {
   "cell_type": "code",
   "execution_count": 153,
   "metadata": {},
   "outputs": [
    {
     "name": "stdout",
     "output_type": "stream",
     "text": [
      "5\n",
      "10\n"
     ]
    }
   ],
   "source": [
    "# write a function to sum two numbers\n",
    "def add(a,b):\n",
    "    return a+b\n",
    "\n",
    "a=add(2,3)\n",
    "print(a)\n",
    "\n",
    "def my_sum(a,b,c,d):\n",
    "    return a+b+c+d\n",
    "\n",
    "b=my_sum(1,2,3,4)\n",
    "print(b)"
   ]
  },
  {
   "cell_type": "markdown",
   "metadata": {},
   "source": [
    "## Built-in and Custom Modules:\n",
    "- Built-in Modules: Pre-installed with Python (e.g., math, os, random).\n",
    "- Custom Modules: Python files created by users (e.g., my_module.py)."
   ]
  },
  {
   "cell_type": "code",
   "execution_count": 154,
   "metadata": {},
   "outputs": [
    {
     "name": "stdout",
     "output_type": "stream",
     "text": [
      "4.0\n",
      "3.141592653589793\n"
     ]
    }
   ],
   "source": [
    "# Built in modules\n",
    "import math\n",
    "\n",
    "# Use math module functions\n",
    "print(math.sqrt(16))  # Outputs: 4.0\n",
    "print(math.pi)        # Outputs: 3.141592653589793\n"
   ]
  },
  {
   "cell_type": "code",
   "execution_count": 155,
   "metadata": {},
   "outputs": [
    {
     "name": "stdout",
     "output_type": "stream",
     "text": [
      "5.0\n",
      "3.141592653589793\n"
     ]
    }
   ],
   "source": [
    "# Instead of importing the entire module, you can import specific functions or variables:\n",
    "\n",
    "from math import sqrt, pi\n",
    "\n",
    "print(sqrt(25))  # Outputs: 5.0\n",
    "print(pi)        # Outputs: 3.141592653589793"
   ]
  },
  {
   "cell_type": "code",
   "execution_count": 156,
   "metadata": {},
   "outputs": [
    {
     "name": "stdout",
     "output_type": "stream",
     "text": [
      "[1 2 3]\n"
     ]
    }
   ],
   "source": [
    "# Use an alias to shorten the module name:\n",
    "\n",
    "import numpy as np\n",
    "\n",
    "array = np.array([1, 2, 3])\n",
    "print(array)  # Outputs: [1 2 3]"
   ]
  },
  {
   "cell_type": "code",
   "execution_count": 157,
   "metadata": {},
   "outputs": [
    {
     "name": "stdout",
     "output_type": "stream",
     "text": [
      "the happy\n",
      "dog ate\n",
      "all his food\n",
      "c\n",
      "30\n",
      "scout\n",
      "SCOUT\n",
      "Scoot\n",
      "My dog's name is Scout\n"
     ]
    }
   ],
   "source": [
    "dog = 'Scout'\n",
    "dog = \"Scout\"\n",
    "\n",
    "poem = '''the happy\n",
    "dog ate\n",
    "all his food'''\n",
    "\n",
    "print(poem)\n",
    "\n",
    "dog[1]\n",
    "print(dog[1])\n",
    "\n",
    "number = len(poem)\n",
    "print(number)\n",
    "# print(str(number))\n",
    "\n",
    "lower_dog = dog.lower()\n",
    "print(lower_dog)\n",
    "upper_dog = dog.upper()\n",
    "print(upper_dog)\n",
    "new_name = dog.replace(\"u\",\"o\")\n",
    "print(new_name)\n",
    "poem.split(\" \")[0]\n",
    "\n",
    "\n",
    "print (r\"My dog's name is\", dog)\n"
   ]
  },
  {
   "cell_type": "markdown",
   "metadata": {},
   "source": [
    "## 1. List: A collection of items that is ordered, mutable (can be changed), and allows duplicates."
   ]
  },
  {
   "cell_type": "code",
   "execution_count": 158,
   "metadata": {},
   "outputs": [
    {
     "name": "stdout",
     "output_type": "stream",
     "text": [
      "['apple', 'banana', 'cherry']\n",
      "['apple', 'banana', 'cherry', 'orange']\n",
      "banana\n",
      "['kiwi', 'banana', 'cherry', 'orange']\n"
     ]
    }
   ],
   "source": [
    "# Example of a List\n",
    "fruits = [\"apple\", \"banana\", \"cherry\"]\n",
    "print(fruits)  # Output: ['apple', 'banana', 'cherry']\n",
    "\n",
    "# Adding an item\n",
    "fruits.append(\"orange\")\n",
    "print(fruits)  # Output: ['apple', 'banana', 'cherry', 'orange']\n",
    "\n",
    "# Accessing items\n",
    "print(fruits[1])  # Output: banana\n",
    "\n",
    "# Changing an item\n",
    "fruits[0] = \"kiwi\"\n",
    "print(fruits)  # Output: ['kiwi', 'banana', 'cherry', 'orange']\n"
   ]
  },
  {
   "cell_type": "markdown",
   "metadata": {},
   "source": [
    "## 2. Tuple: A collection of items that is ordered, immutable (cannot be changed), and allows duplicates."
   ]
  },
  {
   "cell_type": "code",
   "execution_count": 159,
   "metadata": {},
   "outputs": [
    {
     "name": "stdout",
     "output_type": "stream",
     "text": [
      "('red', 'green', 'blue')\n",
      "red\n"
     ]
    }
   ],
   "source": [
    "# Example of a Tuple\n",
    "colors = (\"red\", \"green\", \"blue\")\n",
    "print(colors)  # Output: ('red', 'green', 'blue')\n",
    "\n",
    "# Accessing items\n",
    "print(colors[0])  # Output: red\n",
    "\n",
    "# You cannot modify the tuple\n",
    "# colors[0] = \"yellow\"  # This will raise a TypeError\n"
   ]
  },
  {
   "cell_type": "markdown",
   "metadata": {},
   "source": [
    "## 3. Dictionary: A collection of key-value pairs that is unordered (in versions < 3.7), mutable, and does not allow duplicate keys."
   ]
  },
  {
   "cell_type": "code",
   "execution_count": 160,
   "metadata": {},
   "outputs": [
    {
     "name": "stdout",
     "output_type": "stream",
     "text": [
      "{'name': 'Alice', 'age': 22, 'grade': 'A'}\n",
      "Alice\n",
      "{'name': 'Alice', 'age': 22, 'grade': 'A', 'major': 'Computer Science'}\n"
     ]
    }
   ],
   "source": [
    "# Example of a Dictionary\n",
    "student = {\"name\": \"Alice\", \"age\": 22, \"grade\": \"A\"}\n",
    "print(student)  # Output: {'name': 'Alice', 'age': 22, 'grade': 'A'}\n",
    "\n",
    "# Accessing values\n",
    "print(student[\"name\"])  # Output: Alice\n",
    "\n",
    "# Adding a new key-value pair\n",
    "student[\"major\"] = \"Computer Science\"\n",
    "print(student)  # Output: {'name': 'Alice', 'age': 22, 'grade': 'A', 'major': 'Computer Science'}\n"
   ]
  },
  {
   "cell_type": "code",
   "execution_count": 161,
   "metadata": {},
   "outputs": [
    {
     "name": "stdout",
     "output_type": "stream",
     "text": [
      "['Frodo', 'Gandalf', 'Samwise', 'Merry', 'Pippin', 'Legolas', 'Aragorn', 'Gimli', 'Boromir']\n",
      "['Frodo', 'Gandalf', 'Golem', 'Samwise', 'Merry', 'Pippin', 'Legolas', 'Aragorn', 'Gimli', 'Boromir']\n",
      "['Frodo', 'Gandalf', 'Golem', 'Samwise', 'Merry', 'Pippin', 'Legolas', 'Aragorn', 'Gimli']\n",
      "['Frodo', 'Gandalf', 'Golem', 'Samwise', 'Merry', 'Pippin', 'Legolas', 'Aragorn']\n",
      "['Frodo', 'Gandalf', 'Golem', 'Samwise', 'Merry', 'Pippin', 'Legolas', 'Aragorn', 100]\n",
      "9\n",
      "['donuts', 'hot chocolate', 'apples', 'bananas']\n",
      "[]\n",
      "[100, 'Aragorn', 'Legolas', 'Pippin', 'Merry', 'Samwise', 'Golem', 'Gandalf', 'Frodo']\n",
      "['apples', 'bananas']\n",
      "['apples']\n"
     ]
    }
   ],
   "source": [
    "fellowship = [\"Frodo\", \"Gandalf\", \"Samwise\", \"Merry\", \"Pippin\"\n",
    "              , \"Legolas\", \"Aragorn\", \"Gimli\", \"Boromir\"]\n",
    "\n",
    "print(fellowship)\n",
    "\n",
    "fellowship.insert(2,\"Golem\")\n",
    "print(fellowship)\n",
    "fellowship.remove(\"Boromir\")\n",
    "print(fellowship)\n",
    "fellowship.pop(8)\n",
    "print(fellowship)\n",
    "fellowship.append(100)\n",
    "print(fellowship)\n",
    "\n",
    "len(fellowship)\n",
    "print(len(fellowship))\n",
    "\n",
    "grocery_list1 = [\"apples\", \"bananas\"]\n",
    "grocery_list2 = [\"donuts\", \"hot chocolate\"]\n",
    "new_list = grocery_list2+grocery_list1\n",
    "print(new_list)\n",
    "new_list.clear()\n",
    "print(new_list)\n",
    "\n",
    "fellowship.reverse()\n",
    "print(fellowship)\n",
    "copy_of_list1 = grocery_list1.copy()\n",
    "print(copy_of_list1)\n",
    "grocery_list1.pop(1)\n",
    "print(grocery_list1)"
   ]
  },
  {
   "cell_type": "code",
   "execution_count": 162,
   "metadata": {},
   "outputs": [
    {
     "name": "stdout",
     "output_type": "stream",
     "text": [
      "Scout\n"
     ]
    }
   ],
   "source": [
    "dog = 'Scout'\n",
    "dog = \"Scout\"\n",
    "print(dog)"
   ]
  },
  {
   "cell_type": "code",
   "execution_count": 163,
   "metadata": {},
   "outputs": [
    {
     "name": "stdout",
     "output_type": "stream",
     "text": [
      "the happy\n",
      "dog ate\n",
      "all his food\n",
      "the happy\n",
      "dog ate\n",
      "all his food\n"
     ]
    }
   ],
   "source": [
    "peom= '''the happy  \n",
    "dog ate\n",
    "all his food'''\n",
    "\n",
    "print(poem)\n",
    "\n",
    "peom= \"\"\"the happy  \n",
    "dog ate\n",
    "all his food\"\"\"\n",
    "\n",
    "print(poem)"
   ]
  },
  {
   "cell_type": "code",
   "execution_count": 164,
   "metadata": {},
   "outputs": [
    {
     "name": "stdout",
     "output_type": "stream",
     "text": [
      "h\n"
     ]
    }
   ],
   "source": [
    "print(poem[1])"
   ]
  },
  {
   "cell_type": "code",
   "execution_count": 165,
   "metadata": {},
   "outputs": [
    {
     "name": "stdout",
     "output_type": "stream",
     "text": [
      "S\n",
      "t\n"
     ]
    }
   ],
   "source": [
    "dog[0]\n",
    "print(dog[0])\n",
    "print(dog[-1])"
   ]
  },
  {
   "cell_type": "code",
   "execution_count": 166,
   "metadata": {},
   "outputs": [
    {
     "ename": "TypeError",
     "evalue": "'str' object does not support item assignment",
     "output_type": "error",
     "traceback": [
      "\u001b[0;31m---------------------------------------------------------------------------\u001b[0m",
      "\u001b[0;31mTypeError\u001b[0m                                 Traceback (most recent call last)",
      "Cell \u001b[0;32mIn[166], line 1\u001b[0m\n\u001b[0;32m----> 1\u001b[0m dog[\u001b[38;5;241m0\u001b[39m]\u001b[38;5;241m=\u001b[39m\u001b[38;5;124m\"\u001b[39m\u001b[38;5;124mT\u001b[39m\u001b[38;5;124m\"\u001b[39m\n",
      "\u001b[0;31mTypeError\u001b[0m: 'str' object does not support item assignment"
     ]
    }
   ],
   "source": [
    "dog[0]=\"T\""
   ]
  },
  {
   "cell_type": "code",
   "execution_count": 167,
   "metadata": {},
   "outputs": [
    {
     "name": "stdout",
     "output_type": "stream",
     "text": [
      "Sco\n",
      "ut\n",
      "co\n",
      "Scout\n"
     ]
    }
   ],
   "source": [
    "# Slicing\n",
    "print(dog[:3])\n",
    "print(dog[3:])\n",
    "print(dog[1:3])\n",
    "print(dog[:])"
   ]
  },
  {
   "cell_type": "code",
   "execution_count": 168,
   "metadata": {},
   "outputs": [
    {
     "name": "stdout",
     "output_type": "stream",
     "text": [
      "5\n"
     ]
    }
   ],
   "source": [
    "number= len(dog)\n",
    "print(number)"
   ]
  },
  {
   "cell_type": "code",
   "execution_count": 170,
   "metadata": {},
   "outputs": [
    {
     "data": {
      "text/plain": [
       "True"
      ]
     },
     "execution_count": 170,
     "metadata": {},
     "output_type": "execute_result"
    }
   ],
   "source": [
    "\"S\" in dog"
   ]
  },
  {
   "cell_type": "code",
   "execution_count": 171,
   "metadata": {},
   "outputs": [
    {
     "data": {
      "text/plain": [
       "False"
      ]
     },
     "execution_count": 171,
     "metadata": {},
     "output_type": "execute_result"
    }
   ],
   "source": [
    "\"T\" in dog"
   ]
  },
  {
   "cell_type": "code",
   "execution_count": 172,
   "metadata": {},
   "outputs": [
    {
     "data": {
      "text/plain": [
       "True"
      ]
     },
     "execution_count": 172,
     "metadata": {},
     "output_type": "execute_result"
    }
   ],
   "source": [
    "\"t\" in dog"
   ]
  },
  {
   "cell_type": "code",
   "execution_count": 173,
   "metadata": {},
   "outputs": [
    {
     "name": "stdout",
     "output_type": "stream",
     "text": [
      "30\n"
     ]
    },
    {
     "ename": "TypeError",
     "evalue": "'str' object is not callable",
     "output_type": "error",
     "traceback": [
      "\u001b[0;31m---------------------------------------------------------------------------\u001b[0m",
      "\u001b[0;31mTypeError\u001b[0m                                 Traceback (most recent call last)",
      "Cell \u001b[0;32mIn[173], line 4\u001b[0m\n\u001b[1;32m      1\u001b[0m number \u001b[38;5;241m=\u001b[39m \u001b[38;5;28mlen\u001b[39m(poem)\n\u001b[1;32m      2\u001b[0m \u001b[38;5;28mprint\u001b[39m(number)\n\u001b[0;32m----> 4\u001b[0m \u001b[38;5;28mprint\u001b[39m(\u001b[38;5;28;43mstr\u001b[39;49m\u001b[43m(\u001b[49m\u001b[43mnumber\u001b[49m\u001b[43m)\u001b[49m)\n",
      "\u001b[0;31mTypeError\u001b[0m: 'str' object is not callable"
     ]
    }
   ],
   "source": [
    "number = len(poem)\n",
    "print(number)\n",
    "\n",
    "print(str(number))\n"
   ]
  },
  {
   "cell_type": "code",
   "execution_count": 174,
   "metadata": {},
   "outputs": [],
   "source": [
    "# # Example\n",
    "# poem = \"Roses are red, violets are blue.\"\n",
    "# number = len(poem)\n",
    "\n",
    "# # Convert number to string and print\n",
    "# print(str(number))\n"
   ]
  },
  {
   "cell_type": "code",
   "execution_count": 175,
   "metadata": {},
   "outputs": [
    {
     "data": {
      "text/plain": [
       "['t',\n",
       " 'h',\n",
       " 'e',\n",
       " ' ',\n",
       " 'h',\n",
       " 'a',\n",
       " 'p',\n",
       " 'p',\n",
       " 'y',\n",
       " '\\n',\n",
       " 'd',\n",
       " 'o',\n",
       " 'g',\n",
       " ' ',\n",
       " 'a',\n",
       " 't',\n",
       " 'e',\n",
       " '\\n',\n",
       " 'a',\n",
       " 'l',\n",
       " 'l',\n",
       " ' ',\n",
       " 'h',\n",
       " 'i',\n",
       " 's',\n",
       " ' ',\n",
       " 'f',\n",
       " 'o',\n",
       " 'o',\n",
       " 'd']"
      ]
     },
     "execution_count": 175,
     "metadata": {},
     "output_type": "execute_result"
    }
   ],
   "source": [
    "list(poem)"
   ]
  },
  {
   "cell_type": "code",
   "execution_count": 176,
   "metadata": {},
   "outputs": [
    {
     "name": "stdout",
     "output_type": "stream",
     "text": [
      "scout\n",
      "SCOUT\n",
      "Rcout\n",
      "[' ', 'h', 'i', ' ', 'h', 'o', 'w', ' ', 'a', 'r', 'e', ' ', 'y', 'o', 'u', ' ']\n",
      "['h', 'i', ' ', 'h', 'o', 'w', ' ', 'a', 'r', 'e', ' ', 'y', 'o', 'u']\n"
     ]
    }
   ],
   "source": [
    "lower_dog = dog.lower()\n",
    "print(lower_dog)\n",
    "upper_dog = dog.upper()\n",
    "print(upper_dog)\n",
    "new_name = dog.replace(\"S\",\"R\")\n",
    "print(new_name)\n",
    "\n",
    "name=\" hi how are you \"\n",
    "print(list(name))\n",
    "name1=name.strip()\n",
    "print(list(name1))"
   ]
  },
  {
   "cell_type": "code",
   "execution_count": 177,
   "metadata": {},
   "outputs": [
    {
     "name": "stdout",
     "output_type": "stream",
     "text": [
      "['the happy', 'dog ate', 'all his food']\n",
      "the happy\n"
     ]
    }
   ],
   "source": [
    "print(poem.split(\"\\n\"))\n",
    "print(poem.split(\"\\n\")[0])"
   ]
  },
  {
   "cell_type": "code",
   "execution_count": 178,
   "metadata": {},
   "outputs": [
    {
     "name": "stdout",
     "output_type": "stream",
     "text": [
      "3\n"
     ]
    }
   ],
   "source": [
    "print(poem.count(\"a\"))"
   ]
  },
  {
   "cell_type": "code",
   "execution_count": 179,
   "metadata": {},
   "outputs": [
    {
     "name": "stdout",
     "output_type": "stream",
     "text": [
      "my dog's name is:  Scout\n",
      "my \t dog's \"name\" is:  Scout\n"
     ]
    }
   ],
   "source": [
    "print(r\"my dog's name is: \", dog)\n",
    "print(\"my \\t dog's \\\"name\\\" is: \", dog)"
   ]
  },
  {
   "cell_type": "code",
   "execution_count": 180,
   "metadata": {},
   "outputs": [
    {
     "data": {
      "text/plain": [
       "True"
      ]
     },
     "execution_count": 180,
     "metadata": {},
     "output_type": "execute_result"
    }
   ],
   "source": [
    "x=5\n",
    "bool(x)"
   ]
  },
  {
   "cell_type": "code",
   "execution_count": 181,
   "metadata": {},
   "outputs": [
    {
     "data": {
      "text/plain": [
       "False"
      ]
     },
     "execution_count": 181,
     "metadata": {},
     "output_type": "execute_result"
    }
   ],
   "source": [
    "y=0\n",
    "bool(y)"
   ]
  },
  {
   "cell_type": "code",
   "execution_count": 196,
   "metadata": {},
   "outputs": [
    {
     "data": {
      "text/plain": [
       "True"
      ]
     },
     "execution_count": 196,
     "metadata": {},
     "output_type": "execute_result"
    }
   ],
   "source": [
    "xx=-9.8\n",
    "bool(xx)"
   ]
  },
  {
   "cell_type": "code",
   "execution_count": 186,
   "metadata": {},
   "outputs": [
    {
     "data": {
      "text/plain": [
       "True"
      ]
     },
     "execution_count": 186,
     "metadata": {},
     "output_type": "execute_result"
    }
   ],
   "source": [
    "v=1\n",
    "bool(v)"
   ]
  },
  {
   "cell_type": "code",
   "execution_count": 209,
   "metadata": {},
   "outputs": [],
   "source": [
    "A=True\n",
    "B=False\n"
   ]
  },
  {
   "cell_type": "code",
   "execution_count": 187,
   "metadata": {},
   "outputs": [
    {
     "data": {
      "text/plain": [
       "bool"
      ]
     },
     "execution_count": 187,
     "metadata": {},
     "output_type": "execute_result"
    }
   ],
   "source": [
    "type(A)"
   ]
  },
  {
   "cell_type": "code",
   "execution_count": 184,
   "metadata": {},
   "outputs": [
    {
     "data": {
      "text/plain": [
       "int"
      ]
     },
     "execution_count": 184,
     "metadata": {},
     "output_type": "execute_result"
    }
   ],
   "source": [
    "type(x)"
   ]
  },
  {
   "cell_type": "code",
   "execution_count": 185,
   "metadata": {},
   "outputs": [
    {
     "data": {
      "text/plain": [
       "int"
      ]
     },
     "execution_count": 185,
     "metadata": {},
     "output_type": "execute_result"
    }
   ],
   "source": [
    "type(y)"
   ]
  },
  {
   "cell_type": "code",
   "execution_count": 192,
   "metadata": {},
   "outputs": [
    {
     "data": {
      "text/plain": [
       "True"
      ]
     },
     "execution_count": 192,
     "metadata": {},
     "output_type": "execute_result"
    }
   ],
   "source": [
    "dog = \"Scout\"\n",
    "bool(dog)\n"
   ]
  },
  {
   "cell_type": "code",
   "execution_count": 193,
   "metadata": {},
   "outputs": [
    {
     "data": {
      "text/plain": [
       "False"
      ]
     },
     "execution_count": 193,
     "metadata": {},
     "output_type": "execute_result"
    }
   ],
   "source": [
    "dog=\"\"\n",
    "bool(dog)"
   ]
  },
  {
   "cell_type": "code",
   "execution_count": 194,
   "metadata": {},
   "outputs": [
    {
     "data": {
      "text/plain": [
       "False"
      ]
     },
     "execution_count": 194,
     "metadata": {},
     "output_type": "execute_result"
    }
   ],
   "source": [
    "birds=None\n",
    "bool(birds)"
   ]
  },
  {
   "cell_type": "code",
   "execution_count": 195,
   "metadata": {},
   "outputs": [
    {
     "data": {
      "text/plain": [
       "False"
      ]
     },
     "execution_count": 195,
     "metadata": {},
     "output_type": "execute_result"
    }
   ],
   "source": [
    "L=[]\n",
    "bool(L)"
   ]
  },
  {
   "cell_type": "code",
   "execution_count": 197,
   "metadata": {},
   "outputs": [
    {
     "data": {
      "text/plain": [
       "False"
      ]
     },
     "execution_count": 197,
     "metadata": {},
     "output_type": "execute_result"
    }
   ],
   "source": [
    "A and B"
   ]
  },
  {
   "cell_type": "code",
   "execution_count": 198,
   "metadata": {},
   "outputs": [
    {
     "data": {
      "text/plain": [
       "True"
      ]
     },
     "execution_count": 198,
     "metadata": {},
     "output_type": "execute_result"
    }
   ],
   "source": [
    "A or B"
   ]
  },
  {
   "cell_type": "code",
   "execution_count": 199,
   "metadata": {},
   "outputs": [
    {
     "data": {
      "text/plain": [
       "True"
      ]
     },
     "execution_count": 199,
     "metadata": {},
     "output_type": "execute_result"
    }
   ],
   "source": [
    "not B"
   ]
  },
  {
   "cell_type": "code",
   "execution_count": 200,
   "metadata": {},
   "outputs": [
    {
     "data": {
      "text/plain": [
       "False"
      ]
     },
     "execution_count": 200,
     "metadata": {},
     "output_type": "execute_result"
    }
   ],
   "source": [
    "not A"
   ]
  },
  {
   "cell_type": "code",
   "execution_count": 205,
   "metadata": {},
   "outputs": [],
   "source": [
    "C= False"
   ]
  },
  {
   "cell_type": "code",
   "execution_count": 201,
   "metadata": {},
   "outputs": [
    {
     "data": {
      "text/plain": [
       "False"
      ]
     },
     "execution_count": 201,
     "metadata": {},
     "output_type": "execute_result"
    }
   ],
   "source": [
    "A ==B"
   ]
  },
  {
   "cell_type": "code",
   "execution_count": 202,
   "metadata": {},
   "outputs": [
    {
     "data": {
      "text/plain": [
       "True"
      ]
     },
     "execution_count": 202,
     "metadata": {},
     "output_type": "execute_result"
    }
   ],
   "source": [
    "A !=B"
   ]
  },
  {
   "cell_type": "code",
   "execution_count": 211,
   "metadata": {},
   "outputs": [
    {
     "data": {
      "text/plain": [
       "True"
      ]
     },
     "execution_count": 211,
     "metadata": {},
     "output_type": "execute_result"
    }
   ],
   "source": [
    "A or (B and C)\n"
   ]
  },
  {
   "cell_type": "code",
   "execution_count": 207,
   "metadata": {},
   "outputs": [
    {
     "data": {
      "text/plain": [
       "False"
      ]
     },
     "execution_count": 207,
     "metadata": {},
     "output_type": "execute_result"
    }
   ],
   "source": [
    "(A and B) or C"
   ]
  },
  {
   "cell_type": "code",
   "execution_count": 208,
   "metadata": {},
   "outputs": [
    {
     "data": {
      "text/plain": [
       "False"
      ]
     },
     "execution_count": 208,
     "metadata": {},
     "output_type": "execute_result"
    }
   ],
   "source": [
    "B or C"
   ]
  },
  {
   "cell_type": "code",
   "execution_count": 212,
   "metadata": {},
   "outputs": [
    {
     "name": "stdout",
     "output_type": "stream",
     "text": [
      "True\n"
     ]
    }
   ],
   "source": [
    "print(9>4)"
   ]
  }
 ],
 "metadata": {
  "kernelspec": {
   "display_name": "DL-env",
   "language": "python",
   "name": "python3"
  },
  "language_info": {
   "codemirror_mode": {
    "name": "ipython",
    "version": 3
   },
   "file_extension": ".py",
   "mimetype": "text/x-python",
   "name": "python",
   "nbconvert_exporter": "python",
   "pygments_lexer": "ipython3",
   "version": "3.10.9"
  }
 },
 "nbformat": 4,
 "nbformat_minor": 2
}
